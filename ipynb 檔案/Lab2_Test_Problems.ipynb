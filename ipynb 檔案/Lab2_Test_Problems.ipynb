{
 "cells": [
  {
   "cell_type": "markdown",
   "metadata": {},
   "source": [
    "# <font color='darkorange'>  Test Problems</font>"
   ]
  },
  {
   "cell_type": "markdown",
   "metadata": {},
   "source": [
    "### <font color='darkorange'> Test 1:</font>\n",
    "### <font color='blue'> (a.)</font> x是從52到89間格為1的向量，想要知道向量的長度?                       Hint: use length()"
   ]
  },
  {
   "cell_type": "markdown",
   "metadata": {},
   "source": [
    "### <font color='blue'> (b.)</font> 如果 x是隨機產生50個數字來自於常態分佈，而y是隨機產生50個數字來自於均匀分布，想要知道這兩串數字的平均相加及標準差相減的結果? Hint : use rnorm() & runif() &mean() & sd()"
   ]
  },
  {
   "cell_type": "markdown",
   "metadata": {},
   "source": [
    "### <font color='blue'> (c.)</font>  產生 x、y、z皆是隨機產生50個數字來自於常態分佈，並合併為一個資料框架"
   ]
  },
  {
   "cell_type": "markdown",
   "metadata": {},
   "source": [
    "### <font color='blue'> (d.)</font>  安裝 \"ISLR\" package，並讀取裡面的資料Auto，使用 summary()，pairs()觀察資料的變化"
   ]
  },
  {
   "cell_type": "markdown",
   "metadata": {},
   "source": [
    "### <font color='blue'> (e.)</font>  為了建構「樹」的識別系統，一家公司決定在網路上收集一百萬張圖片。    \n",
    "###      然後，公司要求10名員工，每人查看100張圖片並標註每張圖片是否包含樹。\n",
    "###      再把圖片和標註的紀錄送到「學習算法」以構建系統。 該算法需要解決哪種學習問題？\n",
    "### &emsp;(A.) 監督式學習(Supervised Learning)\n",
    "### &emsp;(B.)非監督式學習(Unsupervised Learning)\n",
    "### &emsp;(C.) 半監督式學習(Semi-supervised Learning )\n",
    "### &emsp;(D.) 強化學習(Reinforcement Learning)"
   ]
  },
  {
   "cell_type": "markdown",
   "metadata": {},
   "source": [
    "### <font color='darkorange'> Test 2:</font>\n",
    "### <font color='blue'> (a.)</font> Perform the following commands in R:"
   ]
  },
  {
   "cell_type": "markdown",
   "metadata": {},
   "source": [
    "#### <font color='green'>  set.seed(1)</font>\n",
    "#### <font color='green'>  x1=runif (100)</font>\n",
    "#### <font color='green'>  x2=0.5*x1+rnorm (100)/10</font>\n",
    "#### <font color='green'>  y=2+2*x1+0.3*x2+rnorm (100)</font>"
   ]
  },
  {
   "cell_type": "markdown",
   "metadata": {},
   "source": [
    "### The last line corresponds to creating a multiple linear model in which $y$ is a function of $x1$ and $x2$. Write out the form of the multiple linear model. "
   ]
  },
  {
   "cell_type": "markdown",
   "metadata": {},
   "source": [
    "### <font color='blue'> (b.)</font> What are the regression coefficients?"
   ]
  },
  {
   "cell_type": "markdown",
   "metadata": {},
   "source": [
    "### <font color='blue'> (c.)</font> Create a scatterplot displaying the relationship between $x1$ and $x2$. Comment on what you observe."
   ]
  },
  {
   "cell_type": "markdown",
   "metadata": {},
   "source": [
    "### <font color='blue'> (d.)</font> Using this data, fit a least squares regression to predict $y$ using $x1$ and $x2$. Describe the results obtained. What are $\\hat{\\beta}_0$, $\\hat{\\beta}_1$, and $\\hat{\\beta}_2$? How do these relate to the true $\\beta_0$, $\\beta_1$, and $\\beta_2$? Can you reject the null hypothesis $H_0:\\beta_1 = 0$? How about the null hypothesis $H_0:\\beta_2 = 0$? (You can use the command by  <font color='red'> lm(y∼x1+x2)</font> .)"
   ]
  },
  {
   "cell_type": "markdown",
   "metadata": {},
   "source": [
    "### <font color='blue'> (e.)</font> Use the <font color='red'> * </font> and <font color='red'> : </font> symbols to fit linear regression models with interaction effects. Do any interactions appear to be statistically significant?"
   ]
  }
 ],
 "metadata": {
  "kernelspec": {
   "display_name": "R",
   "language": "R",
   "name": "ir"
  },
  "language_info": {
   "codemirror_mode": "r",
   "file_extension": ".r",
   "mimetype": "text/x-r-source",
   "name": "R",
   "pygments_lexer": "r",
   "version": "3.4.1"
  }
 },
 "nbformat": 4,
 "nbformat_minor": 2
}
