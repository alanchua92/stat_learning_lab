{
 "cells": [
  {
   "cell_type": "markdown",
   "metadata": {},
   "source": [
    "# Test Problems"
   ]
  },
  {
   "cell_type": "markdown",
   "metadata": {},
   "source": [
    "## Spam data set\n",
    "使用指令 install.package 安裝 kernlab package\n",
    "1. library(kernlab) 後使用指令 data(spam) 取出 spam 資料 (資料集 spam 紀錄郵件中單字出現的頻率和判斷「郵件」是否為垃圾郵件)"
   ]
  },
  {
   "cell_type": "markdown",
   "metadata": {},
   "source": [
    "# Classification \n",
    "1. 將 type 當作反應變數，其他變數當作解釋變數，建立 Logistic Regression, svm 和 knn 模型\n",
    "2. 計算以上模型的混淆矩陣( confusion table )和準確性 ( accuracy )"
   ]
  },
  {
   "cell_type": "markdown",
   "metadata": {},
   "source": [
    "# Cross Validation\n",
    "1. 計算在 classification 問題中建立 Logistic Regression 的 10-fold cross validation error ( 這裡的 error 為指的是模型分類錯誤的比例) ( Hint: 可使用指令 cv.glm ，並設定參數 family=\"binomial\"  ) "
   ]
  }
 ],
 "metadata": {
  "kernelspec": {
   "display_name": "R",
   "language": "R",
   "name": "ir"
  },
  "language_info": {
   "codemirror_mode": "r",
   "file_extension": ".r",
   "mimetype": "text/x-r-source",
   "name": "R",
   "pygments_lexer": "r",
   "version": "3.4.1"
  }
 },
 "nbformat": 4,
 "nbformat_minor": 2
}
