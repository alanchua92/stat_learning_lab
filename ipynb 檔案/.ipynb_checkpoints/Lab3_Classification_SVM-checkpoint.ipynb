{
 "cells": [
  {
   "cell_type": "markdown",
   "metadata": {},
   "source": [
    "# Classification\n",
    "## Iris Data Set (  鳶尾花資料 )"
   ]
  },
  {
   "cell_type": "markdown",
   "metadata": {},
   "source": [
    "- iris 資料變數說明\n",
    "    - Sepal: 花萼\n",
    "    - Petal: 花瓣\n",
    "- 只取出 virginica 和 versicolor 的資料\n",
    "- 目的: 建立分類模型分辨 virginica 和 versicolor"
   ]
  },
  {
   "cell_type": "code",
   "execution_count": 113,
   "metadata": {
    "scrolled": false
   },
   "outputs": [
    {
     "data": {
      "text/html": [
       "<table>\n",
       "<thead><tr><th></th><th scope=col>Sepal.Length</th><th scope=col>Sepal.Width</th><th scope=col>Petal.Length</th><th scope=col>Petal.Width</th><th scope=col>Species</th></tr></thead>\n",
       "<tbody>\n",
       "\t<tr><th scope=row>51</th><td>7.0       </td><td>3.2       </td><td>4.7       </td><td>1.4       </td><td>versicolor</td></tr>\n",
       "\t<tr><th scope=row>52</th><td>6.4       </td><td>3.2       </td><td>4.5       </td><td>1.5       </td><td>versicolor</td></tr>\n",
       "\t<tr><th scope=row>53</th><td>6.9       </td><td>3.1       </td><td>4.9       </td><td>1.5       </td><td>versicolor</td></tr>\n",
       "\t<tr><th scope=row>54</th><td>5.5       </td><td>2.3       </td><td>4.0       </td><td>1.3       </td><td>versicolor</td></tr>\n",
       "\t<tr><th scope=row>55</th><td>6.5       </td><td>2.8       </td><td>4.6       </td><td>1.5       </td><td>versicolor</td></tr>\n",
       "\t<tr><th scope=row>56</th><td>5.7       </td><td>2.8       </td><td>4.5       </td><td>1.3       </td><td>versicolor</td></tr>\n",
       "</tbody>\n",
       "</table>\n"
      ],
      "text/latex": [
       "\\begin{tabular}{r|lllll}\n",
       "  & Sepal.Length & Sepal.Width & Petal.Length & Petal.Width & Species\\\\\n",
       "\\hline\n",
       "\t51 & 7.0        & 3.2        & 4.7        & 1.4        & versicolor\\\\\n",
       "\t52 & 6.4        & 3.2        & 4.5        & 1.5        & versicolor\\\\\n",
       "\t53 & 6.9        & 3.1        & 4.9        & 1.5        & versicolor\\\\\n",
       "\t54 & 5.5        & 2.3        & 4.0        & 1.3        & versicolor\\\\\n",
       "\t55 & 6.5        & 2.8        & 4.6        & 1.5        & versicolor\\\\\n",
       "\t56 & 5.7        & 2.8        & 4.5        & 1.3        & versicolor\\\\\n",
       "\\end{tabular}\n"
      ],
      "text/markdown": [
       "\n",
       "| <!--/--> | Sepal.Length | Sepal.Width | Petal.Length | Petal.Width | Species | \n",
       "|---|---|---|---|---|---|\n",
       "| 51 | 7.0        | 3.2        | 4.7        | 1.4        | versicolor | \n",
       "| 52 | 6.4        | 3.2        | 4.5        | 1.5        | versicolor | \n",
       "| 53 | 6.9        | 3.1        | 4.9        | 1.5        | versicolor | \n",
       "| 54 | 5.5        | 2.3        | 4.0        | 1.3        | versicolor | \n",
       "| 55 | 6.5        | 2.8        | 4.6        | 1.5        | versicolor | \n",
       "| 56 | 5.7        | 2.8        | 4.5        | 1.3        | versicolor | \n",
       "\n",
       "\n"
      ],
      "text/plain": [
       "   Sepal.Length Sepal.Width Petal.Length Petal.Width Species   \n",
       "51 7.0          3.2         4.7          1.4         versicolor\n",
       "52 6.4          3.2         4.5          1.5         versicolor\n",
       "53 6.9          3.1         4.9          1.5         versicolor\n",
       "54 5.5          2.3         4.0          1.3         versicolor\n",
       "55 6.5          2.8         4.6          1.5         versicolor\n",
       "56 5.7          2.8         4.5          1.3         versicolor"
      ]
     },
     "metadata": {},
     "output_type": "display_data"
    },
    {
     "data": {
      "text/html": [
       "<ol class=list-inline>\n",
       "\t<li>'Sepal.Length'</li>\n",
       "\t<li>'Sepal.Width'</li>\n",
       "\t<li>'Petal.Length'</li>\n",
       "\t<li>'Petal.Width'</li>\n",
       "\t<li>'Species'</li>\n",
       "</ol>\n"
      ],
      "text/latex": [
       "\\begin{enumerate*}\n",
       "\\item 'Sepal.Length'\n",
       "\\item 'Sepal.Width'\n",
       "\\item 'Petal.Length'\n",
       "\\item 'Petal.Width'\n",
       "\\item 'Species'\n",
       "\\end{enumerate*}\n"
      ],
      "text/markdown": [
       "1. 'Sepal.Length'\n",
       "2. 'Sepal.Width'\n",
       "3. 'Petal.Length'\n",
       "4. 'Petal.Width'\n",
       "5. 'Species'\n",
       "\n",
       "\n"
      ],
      "text/plain": [
       "[1] \"Sepal.Length\" \"Sepal.Width\"  \"Petal.Length\" \"Petal.Width\"  \"Species\"     "
      ]
     },
     "metadata": {},
     "output_type": "display_data"
    },
    {
     "data": {
      "text/html": [
       "<ol class=list-inline>\n",
       "\t<li>100</li>\n",
       "\t<li>5</li>\n",
       "</ol>\n"
      ],
      "text/latex": [
       "\\begin{enumerate*}\n",
       "\\item 100\n",
       "\\item 5\n",
       "\\end{enumerate*}\n"
      ],
      "text/markdown": [
       "1. 100\n",
       "2. 5\n",
       "\n",
       "\n"
      ],
      "text/plain": [
       "[1] 100   5"
      ]
     },
     "metadata": {},
     "output_type": "display_data"
    }
   ],
   "source": [
    "# 只取出 virginica 和 versicolor\n",
    "iris.small <- iris[iris$Species %in% c(\"versicolor\",\"virginica\"),]\n",
    "iris.small$Species=factor(iris.small$Species,level=c(\"versicolor\",\"virginica\"))\n",
    "\n",
    "# iris.small 前 5 筆資料\n",
    "head(iris.small)\n",
    "\n",
    "# iris.small 的 columns name\n",
    "names(iris.small)\n",
    "\n",
    "# iris.small 資料維度\n",
    "dim(iris.small)"
   ]
  },
  {
   "cell_type": "markdown",
   "metadata": {},
   "source": [
    "變數與品種的關係\n",
    "- 藍色圓形: versicolor\n",
    "- 紅色三角形: virginica"
   ]
  },
  {
   "cell_type": "code",
   "execution_count": 111,
   "metadata": {},
   "outputs": [
    {
     "data": {
      "image/png": "[encoded data removed]",
      "text/plain": [
       "plot without title"
      ]
     },
     "metadata": {},
     "output_type": "display_data"
    }
   ],
   "source": [
    "color_list=c(\"blue\",\"red\")\n",
    "pairs(iris.small[,-5],col=color_list[iris.small$Species],pch=c(16,17)[iris.small$Species])"
   ]
  },
  {
   "cell_type": "markdown",
   "metadata": {},
   "source": [
    "## Logistic Regression"
   ]
  },
  {
   "cell_type": "markdown",
   "metadata": {},
   "source": [
    "- glm 指令配適 Logistic Regression \n",
    "- summary 將模型的結果印出"
   ]
  },
  {
   "cell_type": "code",
   "execution_count": 13,
   "metadata": {
    "scrolled": false
   },
   "outputs": [
    {
     "data": {
      "text/plain": [
       "\n",
       "Call:\n",
       "glm(formula = Species ~ Sepal.Length + Sepal.Width + Petal.Length + \n",
       "    Petal.Width, family = binomial, data = iris.small)\n",
       "\n",
       "Deviance Residuals: \n",
       "     Min        1Q    Median        3Q       Max  \n",
       "-2.01105  -0.00541  -0.00001   0.00677   1.78065  \n",
       "\n",
       "Coefficients:\n",
       "             Estimate Std. Error z value Pr(>|z|)  \n",
       "(Intercept)   -42.638     25.707  -1.659   0.0972 .\n",
       "Sepal.Length   -2.465      2.394  -1.030   0.3032  \n",
       "Sepal.Width    -6.681      4.480  -1.491   0.1359  \n",
       "Petal.Length    9.429      4.737   1.991   0.0465 *\n",
       "Petal.Width    18.286      9.743   1.877   0.0605 .\n",
       "---\n",
       "Signif. codes:  0 '***' 0.001 '**' 0.01 '*' 0.05 '.' 0.1 ' ' 1\n",
       "\n",
       "(Dispersion parameter for binomial family taken to be 1)\n",
       "\n",
       "    Null deviance: 138.629  on 99  degrees of freedom\n",
       "Residual deviance:  11.899  on 95  degrees of freedom\n",
       "AIC: 21.899\n",
       "\n",
       "Number of Fisher Scoring iterations: 10\n"
      ]
     },
     "metadata": {},
     "output_type": "display_data"
    }
   ],
   "source": [
    "glm.fit=glm(Species~Sepal.Length+Sepal.Width+Petal.Length+Petal.Width,\n",
    "            data=iris.small ,family =binomial)\n",
    "summary(glm.fit)"
   ]
  },
  {
   "cell_type": "markdown",
   "metadata": {},
   "source": [
    "glm 配適模型如下\n",
    "\n",
    "$$logit\\left(\\frac{p_{virginica}}{1-p_{virginica}}\\right)=-42.64 -2.47\\ Sepal.Length -6.68\\ Sepal.Width +9.43\\ Petal.Length +18.29\\ Petal.Width$$\n",
    "\n",
    "\n",
    "- predict 對模型進行預測觀測值是 virginica 的機率 ( type=\"response\" )\n",
    "- glm 預測值為 factor 為 1 的機率\n",
    "- contrasts 能確定 factor 變數的 levels\n",
    "- 使用 0.5 進行切分預測是否為 virginica\n",
    "- 得出混淆矩陣( confusion matrix )和模型精確度 ( accuracy )"
   ]
  },
  {
   "cell_type": "code",
   "execution_count": 37,
   "metadata": {
    "scrolled": true
   },
   "outputs": [
    {
     "data": {
      "text/html": [
       "<table>\n",
       "<thead><tr><th></th><th scope=col>virginica</th></tr></thead>\n",
       "<tbody>\n",
       "\t<tr><th scope=row>versicolor</th><td>0</td></tr>\n",
       "\t<tr><th scope=row>virginica</th><td>1</td></tr>\n",
       "</tbody>\n",
       "</table>\n"
      ],
      "text/latex": [
       "\\begin{tabular}{r|l}\n",
       "  & virginica\\\\\n",
       "\\hline\n",
       "\tversicolor & 0\\\\\n",
       "\tvirginica & 1\\\\\n",
       "\\end{tabular}\n"
      ],
      "text/markdown": [
       "\n",
       "| <!--/--> | virginica | \n",
       "|---|---|\n",
       "| versicolor | 0 | \n",
       "| virginica | 1 | \n",
       "\n",
       "\n"
      ],
      "text/plain": [
       "           virginica\n",
       "versicolor 0        \n",
       "virginica  1        "
      ]
     },
     "metadata": {},
     "output_type": "display_data"
    },
    {
     "data": {
      "text/plain": [
       "            glm.pred\n",
       "             versicolor virginica\n",
       "  versicolor         49         1\n",
       "  virginica           1        49"
      ]
     },
     "metadata": {},
     "output_type": "display_data"
    },
    {
     "data": {
      "text/html": [
       "0.98"
      ],
      "text/latex": [
       "0.98"
      ],
      "text/markdown": [
       "0.98"
      ],
      "text/plain": [
       "[1] 0.98"
      ]
     },
     "metadata": {},
     "output_type": "display_data"
    }
   ],
   "source": [
    "contrasts(iris.small$Species)\n",
    "glm.probs= predict(glm.fit ,type =\"response\")\n",
    "glm.pred=rep(\"versicolor\",100)\n",
    "glm.pred[glm.probs>=0.5]=\"virginica\"\n",
    "table(iris.small$Species,glm.pred)\n",
    "mean(iris.small$Species==glm.pred)"
   ]
  },
  {
   "cell_type": "markdown",
   "metadata": {},
   "source": [
    "glm 預測為 virginica 機率在變數上的表現如下\n",
    "- 圓形: versicolor\n",
    "- 三角形: virginica\n",
    "- 顏色從藍色至紅色為 glm 預測為 virginica 的變動\n",
    "- 越紅表示模型覺得是 virginica 的機率越高"
   ]
  },
  {
   "cell_type": "code",
   "execution_count": 110,
   "metadata": {},
   "outputs": [
    {
     "data": {
      "image/png": "[encoded data removed]",
      "text/plain": [
       "plot without title"
      ]
     },
     "metadata": {},
     "output_type": "display_data"
    }
   ],
   "source": [
    "library(RColorBrewer)\n",
    "library(gplots)\n",
    "cut_size=5\n",
    "#col_list=brewer.pal(n = cut_size, name = 'RdYlBu')\n",
    "col_list=colorpanel(cut_size, \"Blue\", \"Red\")\n",
    "cut_quant=quantile(glm.probs,seq(0,1,length.out = cut_size+1))\n",
    "pairs(iris.small[,-5],col=col_list[cut(glm.probs,breaks =cut_quant)],pch=c(16,17)[iris.small$Species])"
   ]
  },
  {
   "cell_type": "markdown",
   "metadata": {},
   "source": [
    "## K-Nearest Neighbors (KNN)"
   ]
  },
  {
   "cell_type": "markdown",
   "metadata": {},
   "source": [
    "- KNN 模型牽涉觀測值之間的距離\n",
    "- 配適 KNN 前需先考慮各變數尺度是否需要調整一致\n",
    "- 若其中一個變數尺度較大，則會被 KNN 認為其為分類中更重要的變數\n",
    "- scale 將變數進行以下處理\n",
    "$$\\frac{X-mean(X)}{sd(X)}$$\n",
    "- scale 後變數的圖如下"
   ]
  },
  {
   "cell_type": "code",
   "execution_count": 119,
   "metadata": {
    "scrolled": false
   },
   "outputs": [
    {
     "data": {
      "image/png": "[encoded data removed]",
      "text/plain": [
       "plot without title"
      ]
     },
     "metadata": {},
     "output_type": "display_data"
    }
   ],
   "source": [
    "library(class)\n",
    "train.X=scale(iris.small[,-5])\n",
    "pairs(train.X,col=color_list[iris.small$Species],pch=c(16,17)[iris.small$Species])"
   ]
  },
  {
   "cell_type": "markdown",
   "metadata": {},
   "source": [
    "- 配適當 k=1 的 KNN 模型\n",
    "- 得出混淆矩陣和模型精確度"
   ]
  },
  {
   "cell_type": "code",
   "execution_count": 117,
   "metadata": {},
   "outputs": [
    {
     "data": {
      "text/plain": [
       "            Species\n",
       "knn.pred     versicolor virginica\n",
       "  versicolor         50         0\n",
       "  virginica           0        50"
      ]
     },
     "metadata": {},
     "output_type": "display_data"
    },
    {
     "data": {
      "text/html": [
       "1"
      ],
      "text/latex": [
       "1"
      ],
      "text/markdown": [
       "1"
      ],
      "text/plain": [
       "[1] 1"
      ]
     },
     "metadata": {},
     "output_type": "display_data"
    }
   ],
   "source": [
    "Species=iris.small$Species\n",
    "knn.pred=knn (train.X,train.X,Species ,k=1)\n",
    "table(knn.pred,Species)\n",
    "mean(knn.pred==Species)"
   ]
  },
  {
   "cell_type": "markdown",
   "metadata": {},
   "source": [
    "- 配適當 k=3 的 KNN 模型\n",
    "- 得出混淆矩陣和模型精確度"
   ]
  },
  {
   "cell_type": "code",
   "execution_count": 115,
   "metadata": {
    "scrolled": true
   },
   "outputs": [
    {
     "data": {
      "text/plain": [
       "            Species\n",
       "knn.pred     versicolor virginica\n",
       "  versicolor         48         3\n",
       "  virginica           2        47"
      ]
     },
     "metadata": {},
     "output_type": "display_data"
    },
    {
     "data": {
      "text/html": [
       "0.95"
      ],
      "text/latex": [
       "0.95"
      ],
      "text/markdown": [
       "0.95"
      ],
      "text/plain": [
       "[1] 0.95"
      ]
     },
     "metadata": {},
     "output_type": "display_data"
    }
   ],
   "source": [
    "knn.pred=knn (train.X,train.X,Species ,k=3)\n",
    "table(knn.pred,Species)\n",
    "mean(knn.pred==Species)"
   ]
  },
  {
   "cell_type": "markdown",
   "metadata": {},
   "source": [
    "## SVM"
   ]
  },
  {
   "cell_type": "markdown",
   "metadata": {},
   "source": [
    "- 配適 SVM 模型"
   ]
  },
  {
   "cell_type": "code",
   "execution_count": 49,
   "metadata": {},
   "outputs": [
    {
     "data": {
      "text/plain": [
       "\n",
       "Call:\n",
       "svm(formula = Species ~ ., data = iris.small, kernel = \"linear\", \n",
       "    cost = 10, gamma = 0.25)\n",
       "\n",
       "\n",
       "Parameters:\n",
       "   SVM-Type:  C-classification \n",
       " SVM-Kernel:  linear \n",
       "       cost:  10 \n",
       "      gamma:  0.25 \n",
       "\n",
       "Number of Support Vectors:  11\n",
       "\n",
       " ( 5 6 )\n",
       "\n",
       "\n",
       "Number of Classes:  2 \n",
       "\n",
       "Levels: \n",
       " versicolor virginica\n",
       "\n",
       "\n"
      ]
     },
     "metadata": {},
     "output_type": "display_data"
    },
    {
     "data": {
      "text/plain": [
       "            svm.pred\n",
       "             versicolor virginica\n",
       "  versicolor         48         2\n",
       "  virginica           1        49"
      ]
     },
     "metadata": {},
     "output_type": "display_data"
    },
    {
     "data": {
      "text/html": [
       "0.97"
      ],
      "text/latex": [
       "0.97"
      ],
      "text/markdown": [
       "0.97"
      ],
      "text/plain": [
       "[1] 0.97"
      ]
     },
     "metadata": {},
     "output_type": "display_data"
    }
   ],
   "source": [
    "library(e1071)\n",
    "svmfit =svm(Species~., data=iris.small , kernel =\"linear\", cost =10,gamma=0.25)\n",
    "summary(svmfit)\n",
    "svm.pred=predict(svmfit ,iris.small )\n",
    "table(iris.small$Species,svm.pred)\n",
    "mean(iris.small$Species==svm.pred)"
   ]
  },
  {
   "cell_type": "code",
   "execution_count": 50,
   "metadata": {},
   "outputs": [
    {
     "data": {
      "text/plain": [
       "\n",
       "Call:\n",
       "svm(formula = Species ~ ., data = iris.small, kernel = \"radial\", \n",
       "    cost = 10, gamma = 0.25)\n",
       "\n",
       "\n",
       "Parameters:\n",
       "   SVM-Type:  C-classification \n",
       " SVM-Kernel:  radial \n",
       "       cost:  10 \n",
       "      gamma:  0.25 \n",
       "\n",
       "Number of Support Vectors:  25\n",
       "\n",
       " ( 11 14 )\n",
       "\n",
       "\n",
       "Number of Classes:  2 \n",
       "\n",
       "Levels: \n",
       " versicolor virginica\n",
       "\n",
       "\n"
      ]
     },
     "metadata": {},
     "output_type": "display_data"
    },
    {
     "data": {
      "text/plain": [
       "            svm.pred\n",
       "             versicolor virginica\n",
       "  versicolor         48         2\n",
       "  virginica           0        50"
      ]
     },
     "metadata": {},
     "output_type": "display_data"
    },
    {
     "data": {
      "text/html": [
       "0.98"
      ],
      "text/latex": [
       "0.98"
      ],
      "text/markdown": [
       "0.98"
      ],
      "text/plain": [
       "[1] 0.98"
      ]
     },
     "metadata": {},
     "output_type": "display_data"
    }
   ],
   "source": [
    "svmfit =svm(Species~., data=iris.small , kernel =\"radial\", cost =10,gamma=0.25)\n",
    "summary(svmfit)\n",
    "svm.pred=predict(svmfit ,iris.small )\n",
    "table(iris.small$Species,svm.pred)\n",
    "mean(iris.small$Species==svm.pred)"
   ]
  }
 ],
 "metadata": {
  "kernelspec": {
   "display_name": "R",
   "language": "R",
   "name": "ir"
  },
  "language_info": {
   "codemirror_mode": "r",
   "file_extension": ".r",
   "mimetype": "text/x-r-source",
   "name": "R",
   "pygments_lexer": "r",
   "version": "3.4.1"
  }
 },
 "nbformat": 4,
 "nbformat_minor": 2
}
