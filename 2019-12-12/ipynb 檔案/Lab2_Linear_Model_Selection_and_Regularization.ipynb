{
 "cells": [
  {
   "cell_type": "markdown",
   "metadata": {},
   "source": [
    "## Subset Selection Methods"
   ]
  },
  {
   "cell_type": "code",
   "execution_count": 1,
   "metadata": {},
   "outputs": [],
   "source": [
    "# install.packages(\"ISLR\")\n",
    "library(ISLR) #安裝需要的package"
   ]
  },
  {
   "cell_type": "code",
   "execution_count": 2,
   "metadata": {},
   "outputs": [
    {
     "data": {
      "text/html": [
       "<table>\n",
       "<caption>A data.frame: 6 × 20</caption>\n",
       "<thead>\n",
       "\t<tr><th></th><th scope=col>AtBat</th><th scope=col>Hits</th><th scope=col>HmRun</th><th scope=col>Runs</th><th scope=col>RBI</th><th scope=col>Walks</th><th scope=col>Years</th><th scope=col>CAtBat</th><th scope=col>CHits</th><th scope=col>CHmRun</th><th scope=col>CRuns</th><th scope=col>CRBI</th><th scope=col>CWalks</th><th scope=col>League</th><th scope=col>Division</th><th scope=col>PutOuts</th><th scope=col>Assists</th><th scope=col>Errors</th><th scope=col>Salary</th><th scope=col>NewLeague</th></tr>\n",
       "\t<tr><th></th><th scope=col>&lt;int&gt;</th><th scope=col>&lt;int&gt;</th><th scope=col>&lt;int&gt;</th><th scope=col>&lt;int&gt;</th><th scope=col>&lt;int&gt;</th><th scope=col>&lt;int&gt;</th><th scope=col>&lt;int&gt;</th><th scope=col>&lt;int&gt;</th><th scope=col>&lt;int&gt;</th><th scope=col>&lt;int&gt;</th><th scope=col>&lt;int&gt;</th><th scope=col>&lt;int&gt;</th><th scope=col>&lt;int&gt;</th><th scope=col>&lt;fct&gt;</th><th scope=col>&lt;fct&gt;</th><th scope=col>&lt;int&gt;</th><th scope=col>&lt;int&gt;</th><th scope=col>&lt;int&gt;</th><th scope=col>&lt;dbl&gt;</th><th scope=col>&lt;fct&gt;</th></tr>\n",
       "</thead>\n",
       "<tbody>\n",
       "\t<tr><th scope=row>-Andy Allanson</th><td>293</td><td> 66</td><td> 1</td><td>30</td><td>29</td><td>14</td><td> 1</td><td> 293</td><td>  66</td><td>  1</td><td> 30</td><td> 29</td><td> 14</td><td>A</td><td>E</td><td>446</td><td> 33</td><td>20</td><td>   NA</td><td>A</td></tr>\n",
       "\t<tr><th scope=row>-Alan Ashby</th><td>315</td><td> 81</td><td> 7</td><td>24</td><td>38</td><td>39</td><td>14</td><td>3449</td><td> 835</td><td> 69</td><td>321</td><td>414</td><td>375</td><td>N</td><td>W</td><td>632</td><td> 43</td><td>10</td><td>475.0</td><td>N</td></tr>\n",
       "\t<tr><th scope=row>-Alvin Davis</th><td>479</td><td>130</td><td>18</td><td>66</td><td>72</td><td>76</td><td> 3</td><td>1624</td><td> 457</td><td> 63</td><td>224</td><td>266</td><td>263</td><td>A</td><td>W</td><td>880</td><td> 82</td><td>14</td><td>480.0</td><td>A</td></tr>\n",
       "\t<tr><th scope=row>-Andre Dawson</th><td>496</td><td>141</td><td>20</td><td>65</td><td>78</td><td>37</td><td>11</td><td>5628</td><td>1575</td><td>225</td><td>828</td><td>838</td><td>354</td><td>N</td><td>E</td><td>200</td><td> 11</td><td> 3</td><td>500.0</td><td>N</td></tr>\n",
       "\t<tr><th scope=row>-Andres Galarraga</th><td>321</td><td> 87</td><td>10</td><td>39</td><td>42</td><td>30</td><td> 2</td><td> 396</td><td> 101</td><td> 12</td><td> 48</td><td> 46</td><td> 33</td><td>N</td><td>E</td><td>805</td><td> 40</td><td> 4</td><td> 91.5</td><td>N</td></tr>\n",
       "\t<tr><th scope=row>-Alfredo Griffin</th><td>594</td><td>169</td><td> 4</td><td>74</td><td>51</td><td>35</td><td>11</td><td>4408</td><td>1133</td><td> 19</td><td>501</td><td>336</td><td>194</td><td>A</td><td>W</td><td>282</td><td>421</td><td>25</td><td>750.0</td><td>A</td></tr>\n",
       "</tbody>\n",
       "</table>\n"
      ],
      "text/latex": [
       "A data.frame: 6 × 20\n",
       "\\begin{tabular}{r|llllllllllllllllllll}\n",
       "  & AtBat & Hits & HmRun & Runs & RBI & Walks & Years & CAtBat & CHits & CHmRun & CRuns & CRBI & CWalks & League & Division & PutOuts & Assists & Errors & Salary & NewLeague\\\\\n",
       "  & <int> & <int> & <int> & <int> & <int> & <int> & <int> & <int> & <int> & <int> & <int> & <int> & <int> & <fct> & <fct> & <int> & <int> & <int> & <dbl> & <fct>\\\\\n",
       "\\hline\n",
       "\t-Andy Allanson & 293 &  66 &  1 & 30 & 29 & 14 &  1 &  293 &   66 &   1 &  30 &  29 &  14 & A & E & 446 &  33 & 20 &    NA & A\\\\\n",
       "\t-Alan Ashby & 315 &  81 &  7 & 24 & 38 & 39 & 14 & 3449 &  835 &  69 & 321 & 414 & 375 & N & W & 632 &  43 & 10 & 475.0 & N\\\\\n",
       "\t-Alvin Davis & 479 & 130 & 18 & 66 & 72 & 76 &  3 & 1624 &  457 &  63 & 224 & 266 & 263 & A & W & 880 &  82 & 14 & 480.0 & A\\\\\n",
       "\t-Andre Dawson & 496 & 141 & 20 & 65 & 78 & 37 & 11 & 5628 & 1575 & 225 & 828 & 838 & 354 & N & E & 200 &  11 &  3 & 500.0 & N\\\\\n",
       "\t-Andres Galarraga & 321 &  87 & 10 & 39 & 42 & 30 &  2 &  396 &  101 &  12 &  48 &  46 &  33 & N & E & 805 &  40 &  4 &  91.5 & N\\\\\n",
       "\t-Alfredo Griffin & 594 & 169 &  4 & 74 & 51 & 35 & 11 & 4408 & 1133 &  19 & 501 & 336 & 194 & A & W & 282 & 421 & 25 & 750.0 & A\\\\\n",
       "\\end{tabular}\n"
      ],
      "text/markdown": [
       "\n",
       "A data.frame: 6 × 20\n",
       "\n",
       "| <!--/--> | AtBat &lt;int&gt; | Hits &lt;int&gt; | HmRun &lt;int&gt; | Runs &lt;int&gt; | RBI &lt;int&gt; | Walks &lt;int&gt; | Years &lt;int&gt; | CAtBat &lt;int&gt; | CHits &lt;int&gt; | CHmRun &lt;int&gt; | CRuns &lt;int&gt; | CRBI &lt;int&gt; | CWalks &lt;int&gt; | League &lt;fct&gt; | Division &lt;fct&gt; | PutOuts &lt;int&gt; | Assists &lt;int&gt; | Errors &lt;int&gt; | Salary &lt;dbl&gt; | NewLeague &lt;fct&gt; |\n",
       "|---|---|---|---|---|---|---|---|---|---|---|---|---|---|---|---|---|---|---|---|---|\n",
       "| -Andy Allanson | 293 |  66 |  1 | 30 | 29 | 14 |  1 |  293 |   66 |   1 |  30 |  29 |  14 | A | E | 446 |  33 | 20 |    NA | A |\n",
       "| -Alan Ashby | 315 |  81 |  7 | 24 | 38 | 39 | 14 | 3449 |  835 |  69 | 321 | 414 | 375 | N | W | 632 |  43 | 10 | 475.0 | N |\n",
       "| -Alvin Davis | 479 | 130 | 18 | 66 | 72 | 76 |  3 | 1624 |  457 |  63 | 224 | 266 | 263 | A | W | 880 |  82 | 14 | 480.0 | A |\n",
       "| -Andre Dawson | 496 | 141 | 20 | 65 | 78 | 37 | 11 | 5628 | 1575 | 225 | 828 | 838 | 354 | N | E | 200 |  11 |  3 | 500.0 | N |\n",
       "| -Andres Galarraga | 321 |  87 | 10 | 39 | 42 | 30 |  2 |  396 |  101 |  12 |  48 |  46 |  33 | N | E | 805 |  40 |  4 |  91.5 | N |\n",
       "| -Alfredo Griffin | 594 | 169 |  4 | 74 | 51 | 35 | 11 | 4408 | 1133 |  19 | 501 | 336 | 194 | A | W | 282 | 421 | 25 | 750.0 | A |\n",
       "\n"
      ],
      "text/plain": [
       "                  AtBat Hits HmRun Runs RBI Walks Years CAtBat CHits CHmRun\n",
       "-Andy Allanson    293    66   1    30   29  14     1     293     66    1   \n",
       "-Alan Ashby       315    81   7    24   38  39    14    3449    835   69   \n",
       "-Alvin Davis      479   130  18    66   72  76     3    1624    457   63   \n",
       "-Andre Dawson     496   141  20    65   78  37    11    5628   1575  225   \n",
       "-Andres Galarraga 321    87  10    39   42  30     2     396    101   12   \n",
       "-Alfredo Griffin  594   169   4    74   51  35    11    4408   1133   19   \n",
       "                  CRuns CRBI CWalks League Division PutOuts Assists Errors\n",
       "-Andy Allanson     30    29   14    A      E        446      33     20    \n",
       "-Alan Ashby       321   414  375    N      W        632      43     10    \n",
       "-Alvin Davis      224   266  263    A      W        880      82     14    \n",
       "-Andre Dawson     828   838  354    N      E        200      11      3    \n",
       "-Andres Galarraga  48    46   33    N      E        805      40      4    \n",
       "-Alfredo Griffin  501   336  194    A      W        282     421     25    \n",
       "                  Salary NewLeague\n",
       "-Andy Allanson       NA  A        \n",
       "-Alan Ashby       475.0  N        \n",
       "-Alvin Davis      480.0  A        \n",
       "-Andre Dawson     500.0  N        \n",
       "-Andres Galarraga  91.5  N        \n",
       "-Alfredo Griffin  750.0  A        "
      ]
     },
     "metadata": {},
     "output_type": "display_data"
    }
   ],
   "source": [
    "data(Hitters) #取出資料\n",
    "head(Hitters)"
   ]
  },
  {
   "cell_type": "code",
   "execution_count": 3,
   "metadata": {},
   "outputs": [],
   "source": [
    "?Hitters"
   ]
  },
  {
   "cell_type": "code",
   "execution_count": 4,
   "metadata": {},
   "outputs": [
    {
     "data": {
      "text/html": [
       "<ol class=list-inline>\n",
       "\t<li>'AtBat'</li>\n",
       "\t<li>'Hits'</li>\n",
       "\t<li>'HmRun'</li>\n",
       "\t<li>'Runs'</li>\n",
       "\t<li>'RBI'</li>\n",
       "\t<li>'Walks'</li>\n",
       "\t<li>'Years'</li>\n",
       "\t<li>'CAtBat'</li>\n",
       "\t<li>'CHits'</li>\n",
       "\t<li>'CHmRun'</li>\n",
       "\t<li>'CRuns'</li>\n",
       "\t<li>'CRBI'</li>\n",
       "\t<li>'CWalks'</li>\n",
       "\t<li>'League'</li>\n",
       "\t<li>'Division'</li>\n",
       "\t<li>'PutOuts'</li>\n",
       "\t<li>'Assists'</li>\n",
       "\t<li>'Errors'</li>\n",
       "\t<li>'Salary'</li>\n",
       "\t<li>'NewLeague'</li>\n",
       "</ol>\n"
      ],
      "text/latex": [
       "\\begin{enumerate*}\n",
       "\\item 'AtBat'\n",
       "\\item 'Hits'\n",
       "\\item 'HmRun'\n",
       "\\item 'Runs'\n",
       "\\item 'RBI'\n",
       "\\item 'Walks'\n",
       "\\item 'Years'\n",
       "\\item 'CAtBat'\n",
       "\\item 'CHits'\n",
       "\\item 'CHmRun'\n",
       "\\item 'CRuns'\n",
       "\\item 'CRBI'\n",
       "\\item 'CWalks'\n",
       "\\item 'League'\n",
       "\\item 'Division'\n",
       "\\item 'PutOuts'\n",
       "\\item 'Assists'\n",
       "\\item 'Errors'\n",
       "\\item 'Salary'\n",
       "\\item 'NewLeague'\n",
       "\\end{enumerate*}\n"
      ],
      "text/markdown": [
       "1. 'AtBat'\n",
       "2. 'Hits'\n",
       "3. 'HmRun'\n",
       "4. 'Runs'\n",
       "5. 'RBI'\n",
       "6. 'Walks'\n",
       "7. 'Years'\n",
       "8. 'CAtBat'\n",
       "9. 'CHits'\n",
       "10. 'CHmRun'\n",
       "11. 'CRuns'\n",
       "12. 'CRBI'\n",
       "13. 'CWalks'\n",
       "14. 'League'\n",
       "15. 'Division'\n",
       "16. 'PutOuts'\n",
       "17. 'Assists'\n",
       "18. 'Errors'\n",
       "19. 'Salary'\n",
       "20. 'NewLeague'\n",
       "\n",
       "\n"
      ],
      "text/plain": [
       " [1] \"AtBat\"     \"Hits\"      \"HmRun\"     \"Runs\"      \"RBI\"       \"Walks\"    \n",
       " [7] \"Years\"     \"CAtBat\"    \"CHits\"     \"CHmRun\"    \"CRuns\"     \"CRBI\"     \n",
       "[13] \"CWalks\"    \"League\"    \"Division\"  \"PutOuts\"   \"Assists\"   \"Errors\"   \n",
       "[19] \"Salary\"    \"NewLeague\""
      ]
     },
     "metadata": {},
     "output_type": "display_data"
    }
   ],
   "source": [
    "names(Hitters) #看資料的欄位名稱"
   ]
  },
  {
   "cell_type": "code",
   "execution_count": 5,
   "metadata": {},
   "outputs": [
    {
     "data": {
      "text/html": [
       "<ol class=list-inline>\n",
       "\t<li>322</li>\n",
       "\t<li>20</li>\n",
       "</ol>\n"
      ],
      "text/latex": [
       "\\begin{enumerate*}\n",
       "\\item 322\n",
       "\\item 20\n",
       "\\end{enumerate*}\n"
      ],
      "text/markdown": [
       "1. 322\n",
       "2. 20\n",
       "\n",
       "\n"
      ],
      "text/plain": [
       "[1] 322  20"
      ]
     },
     "metadata": {},
     "output_type": "display_data"
    }
   ],
   "source": [
    "dim(Hitters) #看資料的行、列數 "
   ]
  },
  {
   "cell_type": "code",
   "execution_count": 6,
   "metadata": {},
   "outputs": [],
   "source": [
    "Hitters = na.omit(Hitters) #將資料中有缺失值的列刪除"
   ]
  },
  {
   "cell_type": "code",
   "execution_count": 7,
   "metadata": {},
   "outputs": [
    {
     "data": {
      "text/html": [
       "<ol class=list-inline>\n",
       "\t<li>263</li>\n",
       "\t<li>20</li>\n",
       "</ol>\n"
      ],
      "text/latex": [
       "\\begin{enumerate*}\n",
       "\\item 263\n",
       "\\item 20\n",
       "\\end{enumerate*}\n"
      ],
      "text/markdown": [
       "1. 263\n",
       "2. 20\n",
       "\n",
       "\n"
      ],
      "text/plain": [
       "[1] 263  20"
      ]
     },
     "metadata": {},
     "output_type": "display_data"
    }
   ],
   "source": [
    "dim(Hitters) #刪除缺失值後重新查看資料的行、列數"
   ]
  },
  {
   "cell_type": "code",
   "execution_count": 8,
   "metadata": {},
   "outputs": [
    {
     "data": {
      "text/html": [
       "0"
      ],
      "text/latex": [
       "0"
      ],
      "text/markdown": [
       "0"
      ],
      "text/plain": [
       "[1] 0"
      ]
     },
     "metadata": {},
     "output_type": "display_data"
    }
   ],
   "source": [
    "sum(is.na(Hitters )) #檢查是否還有缺失值尚未刪除"
   ]
  },
  {
   "cell_type": "markdown",
   "metadata": {},
   "source": [
    "### Best Subset Selection\n",
    "\n",
    "$\\bullet$ 以Salary作為反應變數，執行regsubsets()配適模型\n",
    "\n",
    "$\\bullet$ nvmax表示我們所希望得到最佳模型的變數個數\n",
    "\n",
    "$\\bullet$ 此函數將會配適每一種變數個數的最佳模型"
   ]
  },
  {
   "cell_type": "code",
   "execution_count": 9,
   "metadata": {},
   "outputs": [],
   "source": [
    "# install.packages(\"leaps\")\n",
    "library(leaps) #安裝需要的package "
   ]
  },
  {
   "cell_type": "code",
   "execution_count": 10,
   "metadata": {},
   "outputs": [],
   "source": [
    "regfit.full=regsubsets(Salary~.,data=Hitters ,nvmax =19)"
   ]
  },
  {
   "cell_type": "markdown",
   "metadata": {},
   "source": [
    "將模型的結果存起來，模型結果裡會包含不同準則的值"
   ]
  },
  {
   "cell_type": "code",
   "execution_count": 11,
   "metadata": {},
   "outputs": [],
   "source": [
    "reg.summary=summary(regfit.full)"
   ]
  },
  {
   "cell_type": "markdown",
   "metadata": {},
   "source": [
    "試著取出每一種變數個數的最佳模型的Adjusted Rsquare，取出的結果依照順序為變數數量為1~變數數量為19的最佳模型的Adjusted Rsquare"
   ]
  },
  {
   "cell_type": "code",
   "execution_count": 12,
   "metadata": {},
   "outputs": [
    {
     "data": {
      "text/html": [
       "<ol class=list-inline>\n",
       "\t<li>0.318850280578499</li>\n",
       "\t<li>0.420802390670369</li>\n",
       "\t<li>0.445075316286119</li>\n",
       "\t<li>0.467273423214861</li>\n",
       "\t<li>0.480897071527011</li>\n",
       "\t<li>0.497200054797098</li>\n",
       "\t<li>0.500784873641778</li>\n",
       "\t<li>0.513708257477458</li>\n",
       "\t<li>0.51805715937398</li>\n",
       "\t<li>0.522260623597179</li>\n",
       "\t<li>0.522570578730917</li>\n",
       "\t<li>0.521724458646507</li>\n",
       "\t<li>0.5206736454971</li>\n",
       "\t<li>0.519543086092702</li>\n",
       "\t<li>0.517866147524149</li>\n",
       "\t<li>0.516221853907086</li>\n",
       "\t<li>0.514446423331</li>\n",
       "\t<li>0.512609692022866</li>\n",
       "\t<li>0.510626978687586</li>\n",
       "</ol>\n"
      ],
      "text/latex": [
       "\\begin{enumerate*}\n",
       "\\item 0.318850280578499\n",
       "\\item 0.420802390670369\n",
       "\\item 0.445075316286119\n",
       "\\item 0.467273423214861\n",
       "\\item 0.480897071527011\n",
       "\\item 0.497200054797098\n",
       "\\item 0.500784873641778\n",
       "\\item 0.513708257477458\n",
       "\\item 0.51805715937398\n",
       "\\item 0.522260623597179\n",
       "\\item 0.522570578730917\n",
       "\\item 0.521724458646507\n",
       "\\item 0.5206736454971\n",
       "\\item 0.519543086092702\n",
       "\\item 0.517866147524149\n",
       "\\item 0.516221853907086\n",
       "\\item 0.514446423331\n",
       "\\item 0.512609692022866\n",
       "\\item 0.510626978687586\n",
       "\\end{enumerate*}\n"
      ],
      "text/markdown": [
       "1. 0.318850280578499\n",
       "2. 0.420802390670369\n",
       "3. 0.445075316286119\n",
       "4. 0.467273423214861\n",
       "5. 0.480897071527011\n",
       "6. 0.497200054797098\n",
       "7. 0.500784873641778\n",
       "8. 0.513708257477458\n",
       "9. 0.51805715937398\n",
       "10. 0.522260623597179\n",
       "11. 0.522570578730917\n",
       "12. 0.521724458646507\n",
       "13. 0.5206736454971\n",
       "14. 0.519543086092702\n",
       "15. 0.517866147524149\n",
       "16. 0.516221853907086\n",
       "17. 0.514446423331\n",
       "18. 0.512609692022866\n",
       "19. 0.510626978687586\n",
       "\n",
       "\n"
      ],
      "text/plain": [
       " [1] 0.3188503 0.4208024 0.4450753 0.4672734 0.4808971 0.4972001 0.5007849\n",
       " [8] 0.5137083 0.5180572 0.5222606 0.5225706 0.5217245 0.5206736 0.5195431\n",
       "[15] 0.5178661 0.5162219 0.5144464 0.5126097 0.5106270"
      ]
     },
     "metadata": {},
     "output_type": "display_data"
    }
   ],
   "source": [
    "reg.summary$adjr2"
   ]
  },
  {
   "cell_type": "markdown",
   "metadata": {},
   "source": [
    "視覺化不同準則在每一種變數個數的模型的值，紅點所對應的Y軸表示在這個準則中最好的值，對應的X軸則為該準則認為最佳的變數個數"
   ]
  },
  {
   "cell_type": "code",
   "execution_count": 13,
   "metadata": {},
   "outputs": [
    {
     "data": {
      "image/png": "[encoded data removed]",
      "text/plain": [
       "plot without title"
      ]
     },
     "metadata": {},
     "output_type": "display_data"
    }
   ],
   "source": [
    "par(mfrow =c(2,2))\n",
    "\n",
    "plot(reg.summary$rss ,xlab=\" Number of Variables \",ylab=\" RSS\",type=\"l\")\n",
    "points(which.min(reg.summary$rss), reg.summary$rss[which.min(reg.summary$rss)], col =\"red\",cex =2, pch =20)\n",
    "\n",
    "plot(reg.summary$adjr2 ,xlab =\" Number of Variables \", ylab=\" Adjusted RSq\",type=\"l\")\n",
    "points(which.max(reg.summary$adjr2), reg.summary$adjr2[which.max(reg.summary$adjr2)], col =\"red\",cex =2, pch =20)\n",
    "\n",
    "plot(reg.summary$cp ,xlab =\"Number of Variables\",ylab=\"Cp\",type='l')\n",
    "points(which.min(reg.summary$cp), reg.summary$cp[which.min(reg.summary$cp)], col =\"red\",cex =2, pch =20)\n",
    "\n",
    "plot(reg.summary$bic ,xlab=\"Number of Variables\",ylab=\" BIC\",type='l')\n",
    "points(which.min(reg.summary$bic), reg.summary$bic[which.min(reg.summary$bic)], col =\" red\",cex =2, pch =20)"
   ]
  },
  {
   "cell_type": "markdown",
   "metadata": {},
   "source": [
    "### Forward Selection & Backward Selection\n",
    "\n",
    "$\\bullet$ 和Best subset selection所使用的函數相同"
   ]
  },
  {
   "cell_type": "markdown",
   "metadata": {},
   "source": [
    "$\\bullet$ 若想用Forward Selection，將參數method指定為\"forward\"\n",
    "\n",
    "$\\bullet$ 同樣可用nvmax決定想要的最佳模型的變數數量"
   ]
  },
  {
   "cell_type": "code",
   "execution_count": 14,
   "metadata": {},
   "outputs": [],
   "source": [
    "regfit.fwd=regsubsets(Salary~.,data=Hitters, nvmax =19, method =\"forward\")"
   ]
  },
  {
   "cell_type": "markdown",
   "metadata": {},
   "source": [
    "$\\bullet$ 若想用Backward Selection，將參數method指定為\"backward\"\n",
    "\n",
    "$\\bullet$ 同樣可用nvmax決定想要的最佳模型的變數數量"
   ]
  },
  {
   "cell_type": "code",
   "execution_count": 15,
   "metadata": {},
   "outputs": [],
   "source": [
    "regfit.bwd=regsubsets(Salary~.,data=Hitters ,nvmax =19,method =\"backward\")"
   ]
  },
  {
   "cell_type": "markdown",
   "metadata": {},
   "source": [
    "### The Lasso"
   ]
  },
  {
   "cell_type": "markdown",
   "metadata": {},
   "source": [
    "$\\bullet$ 利用model.matrix()建立x資料集，當我們需要建立具有交互作用或者次方項的變數時，即可使用\n",
    "model.matrix()\n",
    "\n",
    "$\\bullet$ 由於Hitters資料中有類別型的變數，而我們接下來要用的glmnet()函數無法處理變數中具有類別型變數的情況，此時利用model.matrix()就可將類別型變數轉換為dummy variable"
   ]
  },
  {
   "cell_type": "code",
   "execution_count": 16,
   "metadata": {},
   "outputs": [],
   "source": [
    "x=model.matrix(Salary~.,Hitters)[,-1]\n",
    "y=Hitters$Salary"
   ]
  },
  {
   "cell_type": "code",
   "execution_count": 17,
   "metadata": {},
   "outputs": [
    {
     "name": "stderr",
     "output_type": "stream",
     "text": [
      "Loading required package: Matrix\n",
      "Loading required package: foreach\n",
      "Loaded glmnet 2.0-16\n",
      "\n"
     ]
    }
   ],
   "source": [
    "# install.packages(\"glmnet\")\n",
    "library(glmnet) #安裝需要的package"
   ]
  },
  {
   "cell_type": "markdown",
   "metadata": {},
   "source": [
    "將資料分為訓練集和測試集"
   ]
  },
  {
   "cell_type": "code",
   "execution_count": 18,
   "metadata": {},
   "outputs": [],
   "source": [
    "set.seed (1)\n",
    "train=sample(1:nrow(x), nrow(x)/2)\n",
    "test=(-train)\n",
    "y.test=y[test]"
   ]
  },
  {
   "cell_type": "markdown",
   "metadata": {},
   "source": [
    "以glmnet()實現The Lasso方法，要放的參數有：\n",
    "\n",
    "$\\bullet$ x:不含反應變數的資料集\n",
    "\n",
    "$\\bullet$ y:反應變數\n",
    "\n",
    "$\\bullet$ alpha:設為alpha=1\n",
    "\n",
    "$\\bullet$ lambda: tuning parameter，可以一次放一個數列的lambda，若沒有指定lambda，函數也有預設一定範圍的lambda"
   ]
  },
  {
   "cell_type": "markdown",
   "metadata": {},
   "source": [
    "在這裡我們指定$\\lambda$的範圍介在$10^{-2}\\sim10^{10}$之間"
   ]
  },
  {
   "cell_type": "code",
   "execution_count": 19,
   "metadata": {},
   "outputs": [],
   "source": [
    "grid =10^seq(10,-2,length =100) "
   ]
  },
  {
   "cell_type": "markdown",
   "metadata": {},
   "source": [
    "配適The Lasso模型"
   ]
  },
  {
   "cell_type": "code",
   "execution_count": 20,
   "metadata": {},
   "outputs": [],
   "source": [
    "lasso.mod =glmnet(x[train ,],y[train],alpha =1, lambda =grid)"
   ]
  },
  {
   "cell_type": "markdown",
   "metadata": {},
   "source": [
    "利用cross validation選擇最佳的tuning parameter $\\lambda$\n",
    "\n",
    "$\\bullet$ cv.glmnet():配適進行cross validation的The Lasso模型"
   ]
  },
  {
   "cell_type": "code",
   "execution_count": 21,
   "metadata": {},
   "outputs": [
    {
     "data": {
      "image/png": "[encoded data removed]",
      "text/plain": [
       "plot without title"
      ]
     },
     "metadata": {},
     "output_type": "display_data"
    }
   ],
   "source": [
    "set.seed(1)\n",
    "cv.out = cv.glmnet(x[train ,],y[train],alpha =1) \n",
    "plot(cv.out) #畫出在不同的lambda之下模型的MSE"
   ]
  },
  {
   "cell_type": "code",
   "execution_count": 22,
   "metadata": {},
   "outputs": [
    {
     "data": {
      "text/html": [
       "143673.618543046"
      ],
      "text/latex": [
       "143673.618543046"
      ],
      "text/markdown": [
       "143673.618543046"
      ],
      "text/plain": [
       "[1] 143673.6"
      ]
     },
     "metadata": {},
     "output_type": "display_data"
    }
   ],
   "source": [
    "bestlam = cv.out$lambda.min #使模型的MSE最小的lambda，也就是我們想要的lambda\n",
    "lasso.pred= predict(lasso.mod,s=bestlam ,newx=x[test ,]) #將The Lasso模型的lambda設定為我們選出的lambda，丟入測試集資料進行預測\n",
    "mean((lasso.pred-y.test)^2) #test MSE"
   ]
  },
  {
   "cell_type": "code",
   "execution_count": 23,
   "metadata": {},
   "outputs": [],
   "source": [
    "lasso.coef=predict(cv.out ,type =\"coefficients\",s=bestlam)[1:20 ,] #代入最佳lambda的The Lasso模型的係數"
   ]
  },
  {
   "cell_type": "code",
   "execution_count": 24,
   "metadata": {},
   "outputs": [
    {
     "data": {
      "text/html": [
       "<dl class=dl-horizontal>\n",
       "\t<dt>(Intercept)</dt>\n",
       "\t\t<dd>119.841767678403</dd>\n",
       "\t<dt>AtBat</dt>\n",
       "\t\t<dd>0</dd>\n",
       "\t<dt>Hits</dt>\n",
       "\t\t<dd>0</dd>\n",
       "\t<dt>HmRun</dt>\n",
       "\t\t<dd>3.42394217981313</dd>\n",
       "\t<dt>Runs</dt>\n",
       "\t\t<dd>0</dd>\n",
       "\t<dt>RBI</dt>\n",
       "\t\t<dd>0</dd>\n",
       "\t<dt>Walks</dt>\n",
       "\t\t<dd>4.04875545157754</dd>\n",
       "\t<dt>Years</dt>\n",
       "\t\t<dd>-11.8252121342599</dd>\n",
       "\t<dt>CAtBat</dt>\n",
       "\t\t<dd>0</dd>\n",
       "\t<dt>CHits</dt>\n",
       "\t\t<dd>0.20527507829825</dd>\n",
       "\t<dt>CHmRun</dt>\n",
       "\t\t<dd>0.910662690731385</dd>\n",
       "\t<dt>CRuns</dt>\n",
       "\t\t<dd>0</dd>\n",
       "\t<dt>CRBI</dt>\n",
       "\t\t<dd>0.384606427850287</dd>\n",
       "\t<dt>CWalks</dt>\n",
       "\t\t<dd>0</dd>\n",
       "\t<dt>LeagueN</dt>\n",
       "\t\t<dd>46.8403552129108</dd>\n",
       "\t<dt>DivisionW</dt>\n",
       "\t\t<dd>-135.30020870415</dd>\n",
       "\t<dt>PutOuts</dt>\n",
       "\t\t<dd>0.116402689226433</dd>\n",
       "\t<dt>Assists</dt>\n",
       "\t\t<dd>0.140122424885599</dd>\n",
       "\t<dt>Errors</dt>\n",
       "\t\t<dd>0</dd>\n",
       "\t<dt>NewLeagueN</dt>\n",
       "\t\t<dd>0</dd>\n",
       "</dl>\n"
      ],
      "text/latex": [
       "\\begin{description*}\n",
       "\\item[(Intercept)] 119.841767678403\n",
       "\\item[AtBat] 0\n",
       "\\item[Hits] 0\n",
       "\\item[HmRun] 3.42394217981313\n",
       "\\item[Runs] 0\n",
       "\\item[RBI] 0\n",
       "\\item[Walks] 4.04875545157754\n",
       "\\item[Years] -11.8252121342599\n",
       "\\item[CAtBat] 0\n",
       "\\item[CHits] 0.20527507829825\n",
       "\\item[CHmRun] 0.910662690731385\n",
       "\\item[CRuns] 0\n",
       "\\item[CRBI] 0.384606427850287\n",
       "\\item[CWalks] 0\n",
       "\\item[LeagueN] 46.8403552129108\n",
       "\\item[DivisionW] -135.30020870415\n",
       "\\item[PutOuts] 0.116402689226433\n",
       "\\item[Assists] 0.140122424885599\n",
       "\\item[Errors] 0\n",
       "\\item[NewLeagueN] 0\n",
       "\\end{description*}\n"
      ],
      "text/markdown": [
       "(Intercept)\n",
       ":   119.841767678403AtBat\n",
       ":   0Hits\n",
       ":   0HmRun\n",
       ":   3.42394217981313Runs\n",
       ":   0RBI\n",
       ":   0Walks\n",
       ":   4.04875545157754Years\n",
       ":   -11.8252121342599CAtBat\n",
       ":   0CHits\n",
       ":   0.20527507829825CHmRun\n",
       ":   0.910662690731385CRuns\n",
       ":   0CRBI\n",
       ":   0.384606427850287CWalks\n",
       ":   0LeagueN\n",
       ":   46.8403552129108DivisionW\n",
       ":   -135.30020870415PutOuts\n",
       ":   0.116402689226433Assists\n",
       ":   0.140122424885599Errors\n",
       ":   0NewLeagueN\n",
       ":   0\n",
       "\n"
      ],
      "text/plain": [
       " (Intercept)        AtBat         Hits        HmRun         Runs          RBI \n",
       " 119.8417677    0.0000000    0.0000000    3.4239422    0.0000000    0.0000000 \n",
       "       Walks        Years       CAtBat        CHits       CHmRun        CRuns \n",
       "   4.0487555  -11.8252121    0.0000000    0.2052751    0.9106627    0.0000000 \n",
       "        CRBI       CWalks      LeagueN    DivisionW      PutOuts      Assists \n",
       "   0.3846064    0.0000000   46.8403552 -135.3002087    0.1164027    0.1401224 \n",
       "      Errors   NewLeagueN \n",
       "   0.0000000    0.0000000 "
      ]
     },
     "metadata": {},
     "output_type": "display_data"
    }
   ],
   "source": [
    "lasso.coef"
   ]
  },
  {
   "cell_type": "markdown",
   "metadata": {},
   "source": [
    "用全部的x資料集重新建立The Lasso模型，並代入藉由cross validation所選出的lambda得到模型的係數"
   ]
  },
  {
   "cell_type": "code",
   "execution_count": 27,
   "metadata": {},
   "outputs": [
    {
     "data": {
      "text/html": [
       "<table>\n",
       "<caption>A matrix: 263 × 1 of type dbl</caption>\n",
       "<thead>\n",
       "\t<tr><th></th><th scope=col>s0</th></tr>\n",
       "</thead>\n",
       "<tbody>\n",
       "\t<tr><th scope=row>-Alan Ashby</th><td> 425.49821</td></tr>\n",
       "\t<tr><th scope=row>-Alvin Davis</th><td> 771.27474</td></tr>\n",
       "\t<tr><th scope=row>-Andre Dawson</th><td> 969.17076</td></tr>\n",
       "\t<tr><th scope=row>-Andres Galarraga</th><td> 534.27196</td></tr>\n",
       "\t<tr><th scope=row>-Alfredo Griffin</th><td> 468.67032</td></tr>\n",
       "\t<tr><th scope=row>-Al Newman</th><td> 252.39043</td></tr>\n",
       "\t<tr><th scope=row>-Argenis Salazar</th><td>  66.78058</td></tr>\n",
       "\t<tr><th scope=row>-Andres Thomas</th><td> 128.29649</td></tr>\n",
       "\t<tr><th scope=row>-Andre Thornton</th><td> 888.34440</td></tr>\n",
       "\t<tr><th scope=row>-Alan Trammell</th><td> 892.13688</td></tr>\n",
       "\t<tr><th scope=row>-Alex Trevino</th><td> 209.13345</td></tr>\n",
       "\t<tr><th scope=row>-Andy VanSlyke</th><td> 547.69918</td></tr>\n",
       "\t<tr><th scope=row>-Alan Wiggins</th><td> 328.90941</td></tr>\n",
       "\t<tr><th scope=row>-Bill Almon</th><td> 360.07041</td></tr>\n",
       "\t<tr><th scope=row>-Buddy Bell</th><td>1136.61633</td></tr>\n",
       "\t<tr><th scope=row>-Buddy Biancalana</th><td>  25.61142</td></tr>\n",
       "\t<tr><th scope=row>-Bruce Bochy</th><td>  34.18925</td></tr>\n",
       "\t<tr><th scope=row>-Barry Bonds</th><td> 565.43705</td></tr>\n",
       "\t<tr><th scope=row>-Bobby Bonilla</th><td> 383.52376</td></tr>\n",
       "\t<tr><th scope=row>-Bob Brenly</th><td> 595.07888</td></tr>\n",
       "\t<tr><th scope=row>-Bill Buckner</th><td>1394.37919</td></tr>\n",
       "\t<tr><th scope=row>-Brett Butler</th><td> 708.76396</td></tr>\n",
       "\t<tr><th scope=row>-Bob Dernier</th><td> 338.17127</td></tr>\n",
       "\t<tr><th scope=row>-Bo Diaz</th><td> 468.38711</td></tr>\n",
       "\t<tr><th scope=row>-Bill Doran</th><td> 592.97564</td></tr>\n",
       "\t<tr><th scope=row>-Brian Downing</th><td> 843.28293</td></tr>\n",
       "\t<tr><th scope=row>-Billy Hatcher</th><td> 176.18670</td></tr>\n",
       "\t<tr><th scope=row>-Brook Jacoby</th><td> 568.20977</td></tr>\n",
       "\t<tr><th scope=row>-Bob Kearney</th><td> 154.63318</td></tr>\n",
       "\t<tr><th scope=row>-Bill Madlock</th><td> 757.80249</td></tr>\n",
       "\t<tr><th scope=row>⋮</th><td>⋮</td></tr>\n",
       "\t<tr><th scope=row>-Tony Fernandez</th><td> 498.1851</td></tr>\n",
       "\t<tr><th scope=row>-Tim Flannery</th><td> 326.8197</td></tr>\n",
       "\t<tr><th scope=row>-Tom Foley</th><td> 321.6962</td></tr>\n",
       "\t<tr><th scope=row>-Tony Gwynn</th><td> 560.8396</td></tr>\n",
       "\t<tr><th scope=row>-Terry Harper</th><td> 171.5325</td></tr>\n",
       "\t<tr><th scope=row>-Tommy Herr</th><td> 793.9561</td></tr>\n",
       "\t<tr><th scope=row>-Tim Hulett</th><td> 168.8655</td></tr>\n",
       "\t<tr><th scope=row>-Terry Kennedy</th><td> 204.5902</td></tr>\n",
       "\t<tr><th scope=row>-Tito Landrum</th><td> 212.2770</td></tr>\n",
       "\t<tr><th scope=row>-Tim Laudner</th><td> 189.8578</td></tr>\n",
       "\t<tr><th scope=row>-Tom Paciorek</th><td> 189.5304</td></tr>\n",
       "\t<tr><th scope=row>-Tony Pena</th><td> 840.6226</td></tr>\n",
       "\t<tr><th scope=row>-Terry Pendleton</th><td> 474.8712</td></tr>\n",
       "\t<tr><th scope=row>-Tony Phillips</th><td> 437.6520</td></tr>\n",
       "\t<tr><th scope=row>-Terry Puhl</th><td> 352.0396</td></tr>\n",
       "\t<tr><th scope=row>-Ted Simmons</th><td> 933.3177</td></tr>\n",
       "\t<tr><th scope=row>-Tim Teufel</th><td> 423.6050</td></tr>\n",
       "\t<tr><th scope=row>-Tim Wallach</th><td> 662.1702</td></tr>\n",
       "\t<tr><th scope=row>-Vince Coleman</th><td> 557.1770</td></tr>\n",
       "\t<tr><th scope=row>-Von Hayes</th><td>1062.7998</td></tr>\n",
       "\t<tr><th scope=row>-Vance Law</th><td> 495.5581</td></tr>\n",
       "\t<tr><th scope=row>-Wally Backman</th><td> 411.2391</td></tr>\n",
       "\t<tr><th scope=row>-Wade Boggs</th><td> 943.9321</td></tr>\n",
       "\t<tr><th scope=row>-Will Clark</th><td> 476.8901</td></tr>\n",
       "\t<tr><th scope=row>-Wally Joyner</th><td> 703.2338</td></tr>\n",
       "\t<tr><th scope=row>-Willie McGee</th><td> 671.2258</td></tr>\n",
       "\t<tr><th scope=row>-Willie Randolph</th><td> 985.4383</td></tr>\n",
       "\t<tr><th scope=row>-Wayne Tolleson</th><td> 251.8945</td></tr>\n",
       "\t<tr><th scope=row>-Willie Upshaw</th><td>1073.3135</td></tr>\n",
       "\t<tr><th scope=row>-Willie Wilson</th><td> 573.6150</td></tr>\n",
       "</tbody>\n",
       "</table>\n"
      ],
      "text/latex": [
       "A matrix: 263 × 1 of type dbl\n",
       "\\begin{tabular}{r|l}\n",
       "  & s0\\\\\n",
       "\\hline\n",
       "\t-Alan Ashby &  425.49821\\\\\n",
       "\t-Alvin Davis &  771.27474\\\\\n",
       "\t-Andre Dawson &  969.17076\\\\\n",
       "\t-Andres Galarraga &  534.27196\\\\\n",
       "\t-Alfredo Griffin &  468.67032\\\\\n",
       "\t-Al Newman &  252.39043\\\\\n",
       "\t-Argenis Salazar &   66.78058\\\\\n",
       "\t-Andres Thomas &  128.29649\\\\\n",
       "\t-Andre Thornton &  888.34440\\\\\n",
       "\t-Alan Trammell &  892.13688\\\\\n",
       "\t-Alex Trevino &  209.13345\\\\\n",
       "\t-Andy VanSlyke &  547.69918\\\\\n",
       "\t-Alan Wiggins &  328.90941\\\\\n",
       "\t-Bill Almon &  360.07041\\\\\n",
       "\t-Buddy Bell & 1136.61633\\\\\n",
       "\t-Buddy Biancalana &   25.61142\\\\\n",
       "\t-Bruce Bochy &   34.18925\\\\\n",
       "\t-Barry Bonds &  565.43705\\\\\n",
       "\t-Bobby Bonilla &  383.52376\\\\\n",
       "\t-Bob Brenly &  595.07888\\\\\n",
       "\t-Bill Buckner & 1394.37919\\\\\n",
       "\t-Brett Butler &  708.76396\\\\\n",
       "\t-Bob Dernier &  338.17127\\\\\n",
       "\t-Bo Diaz &  468.38711\\\\\n",
       "\t-Bill Doran &  592.97564\\\\\n",
       "\t-Brian Downing &  843.28293\\\\\n",
       "\t-Billy Hatcher &  176.18670\\\\\n",
       "\t-Brook Jacoby &  568.20977\\\\\n",
       "\t-Bob Kearney &  154.63318\\\\\n",
       "\t-Bill Madlock &  757.80249\\\\\n",
       "\t⋮ & ⋮\\\\\n",
       "\t-Tony Fernandez &  498.1851\\\\\n",
       "\t-Tim Flannery &  326.8197\\\\\n",
       "\t-Tom Foley &  321.6962\\\\\n",
       "\t-Tony Gwynn &  560.8396\\\\\n",
       "\t-Terry Harper &  171.5325\\\\\n",
       "\t-Tommy Herr &  793.9561\\\\\n",
       "\t-Tim Hulett &  168.8655\\\\\n",
       "\t-Terry Kennedy &  204.5902\\\\\n",
       "\t-Tito Landrum &  212.2770\\\\\n",
       "\t-Tim Laudner &  189.8578\\\\\n",
       "\t-Tom Paciorek &  189.5304\\\\\n",
       "\t-Tony Pena &  840.6226\\\\\n",
       "\t-Terry Pendleton &  474.8712\\\\\n",
       "\t-Tony Phillips &  437.6520\\\\\n",
       "\t-Terry Puhl &  352.0396\\\\\n",
       "\t-Ted Simmons &  933.3177\\\\\n",
       "\t-Tim Teufel &  423.6050\\\\\n",
       "\t-Tim Wallach &  662.1702\\\\\n",
       "\t-Vince Coleman &  557.1770\\\\\n",
       "\t-Von Hayes & 1062.7998\\\\\n",
       "\t-Vance Law &  495.5581\\\\\n",
       "\t-Wally Backman &  411.2391\\\\\n",
       "\t-Wade Boggs &  943.9321\\\\\n",
       "\t-Will Clark &  476.8901\\\\\n",
       "\t-Wally Joyner &  703.2338\\\\\n",
       "\t-Willie McGee &  671.2258\\\\\n",
       "\t-Willie Randolph &  985.4383\\\\\n",
       "\t-Wayne Tolleson &  251.8945\\\\\n",
       "\t-Willie Upshaw & 1073.3135\\\\\n",
       "\t-Willie Wilson &  573.6150\\\\\n",
       "\\end{tabular}\n"
      ],
      "text/markdown": [
       "\n",
       "A matrix: 263 × 1 of type dbl\n",
       "\n",
       "| <!--/--> | s0 |\n",
       "|---|---|\n",
       "| -Alan Ashby |  425.49821 |\n",
       "| -Alvin Davis |  771.27474 |\n",
       "| -Andre Dawson |  969.17076 |\n",
       "| -Andres Galarraga |  534.27196 |\n",
       "| -Alfredo Griffin |  468.67032 |\n",
       "| -Al Newman |  252.39043 |\n",
       "| -Argenis Salazar |   66.78058 |\n",
       "| -Andres Thomas |  128.29649 |\n",
       "| -Andre Thornton |  888.34440 |\n",
       "| -Alan Trammell |  892.13688 |\n",
       "| -Alex Trevino |  209.13345 |\n",
       "| -Andy VanSlyke |  547.69918 |\n",
       "| -Alan Wiggins |  328.90941 |\n",
       "| -Bill Almon |  360.07041 |\n",
       "| -Buddy Bell | 1136.61633 |\n",
       "| -Buddy Biancalana |   25.61142 |\n",
       "| -Bruce Bochy |   34.18925 |\n",
       "| -Barry Bonds |  565.43705 |\n",
       "| -Bobby Bonilla |  383.52376 |\n",
       "| -Bob Brenly |  595.07888 |\n",
       "| -Bill Buckner | 1394.37919 |\n",
       "| -Brett Butler |  708.76396 |\n",
       "| -Bob Dernier |  338.17127 |\n",
       "| -Bo Diaz |  468.38711 |\n",
       "| -Bill Doran |  592.97564 |\n",
       "| -Brian Downing |  843.28293 |\n",
       "| -Billy Hatcher |  176.18670 |\n",
       "| -Brook Jacoby |  568.20977 |\n",
       "| -Bob Kearney |  154.63318 |\n",
       "| -Bill Madlock |  757.80249 |\n",
       "| ⋮ | ⋮ |\n",
       "| -Tony Fernandez |  498.1851 |\n",
       "| -Tim Flannery |  326.8197 |\n",
       "| -Tom Foley |  321.6962 |\n",
       "| -Tony Gwynn |  560.8396 |\n",
       "| -Terry Harper |  171.5325 |\n",
       "| -Tommy Herr |  793.9561 |\n",
       "| -Tim Hulett |  168.8655 |\n",
       "| -Terry Kennedy |  204.5902 |\n",
       "| -Tito Landrum |  212.2770 |\n",
       "| -Tim Laudner |  189.8578 |\n",
       "| -Tom Paciorek |  189.5304 |\n",
       "| -Tony Pena |  840.6226 |\n",
       "| -Terry Pendleton |  474.8712 |\n",
       "| -Tony Phillips |  437.6520 |\n",
       "| -Terry Puhl |  352.0396 |\n",
       "| -Ted Simmons |  933.3177 |\n",
       "| -Tim Teufel |  423.6050 |\n",
       "| -Tim Wallach |  662.1702 |\n",
       "| -Vince Coleman |  557.1770 |\n",
       "| -Von Hayes | 1062.7998 |\n",
       "| -Vance Law |  495.5581 |\n",
       "| -Wally Backman |  411.2391 |\n",
       "| -Wade Boggs |  943.9321 |\n",
       "| -Will Clark |  476.8901 |\n",
       "| -Wally Joyner |  703.2338 |\n",
       "| -Willie McGee |  671.2258 |\n",
       "| -Willie Randolph |  985.4383 |\n",
       "| -Wayne Tolleson |  251.8945 |\n",
       "| -Willie Upshaw | 1073.3135 |\n",
       "| -Willie Wilson |  573.6150 |\n",
       "\n"
      ],
      "text/plain": [
       "                  s0        \n",
       "-Alan Ashby        425.49821\n",
       "-Alvin Davis       771.27474\n",
       "-Andre Dawson      969.17076\n",
       "-Andres Galarraga  534.27196\n",
       "-Alfredo Griffin   468.67032\n",
       "-Al Newman         252.39043\n",
       "-Argenis Salazar    66.78058\n",
       "-Andres Thomas     128.29649\n",
       "-Andre Thornton    888.34440\n",
       "-Alan Trammell     892.13688\n",
       "-Alex Trevino      209.13345\n",
       "-Andy VanSlyke     547.69918\n",
       "-Alan Wiggins      328.90941\n",
       "-Bill Almon        360.07041\n",
       "-Buddy Bell       1136.61633\n",
       "-Buddy Biancalana   25.61142\n",
       "-Bruce Bochy        34.18925\n",
       "-Barry Bonds       565.43705\n",
       "-Bobby Bonilla     383.52376\n",
       "-Bob Brenly        595.07888\n",
       "-Bill Buckner     1394.37919\n",
       "-Brett Butler      708.76396\n",
       "-Bob Dernier       338.17127\n",
       "-Bo Diaz           468.38711\n",
       "-Bill Doran        592.97564\n",
       "-Brian Downing     843.28293\n",
       "-Billy Hatcher     176.18670\n",
       "-Brook Jacoby      568.20977\n",
       "-Bob Kearney       154.63318\n",
       "-Bill Madlock      757.80249\n",
       "⋮                 ⋮         \n",
       "-Tony Fernandez    498.1851 \n",
       "-Tim Flannery      326.8197 \n",
       "-Tom Foley         321.6962 \n",
       "-Tony Gwynn        560.8396 \n",
       "-Terry Harper      171.5325 \n",
       "-Tommy Herr        793.9561 \n",
       "-Tim Hulett        168.8655 \n",
       "-Terry Kennedy     204.5902 \n",
       "-Tito Landrum      212.2770 \n",
       "-Tim Laudner       189.8578 \n",
       "-Tom Paciorek      189.5304 \n",
       "-Tony Pena         840.6226 \n",
       "-Terry Pendleton   474.8712 \n",
       "-Tony Phillips     437.6520 \n",
       "-Terry Puhl        352.0396 \n",
       "-Ted Simmons       933.3177 \n",
       "-Tim Teufel        423.6050 \n",
       "-Tim Wallach       662.1702 \n",
       "-Vince Coleman     557.1770 \n",
       "-Von Hayes        1062.7998 \n",
       "-Vance Law         495.5581 \n",
       "-Wally Backman     411.2391 \n",
       "-Wade Boggs        943.9321 \n",
       "-Will Clark        476.8901 \n",
       "-Wally Joyner      703.2338 \n",
       "-Willie McGee      671.2258 \n",
       "-Willie Randolph   985.4383 \n",
       "-Wayne Tolleson    251.8945 \n",
       "-Willie Upshaw    1073.3135 \n",
       "-Willie Wilson     573.6150 "
      ]
     },
     "metadata": {},
     "output_type": "display_data"
    }
   ],
   "source": [
    "x_new=x[,names(lasso.coef[lasso.coef!=0])[-1]]\n",
    "out=glmnet(x_new,y,alpha =1, lambda =0)\n",
    "lasso.coef=predict(out,newx=x_new)\n",
    "lasso.coef"
   ]
  },
  {
   "cell_type": "code",
   "execution_count": null,
   "metadata": {},
   "outputs": [],
   "source": []
  }
 ],
 "metadata": {
  "kernelspec": {
   "display_name": "R",
   "language": "R",
   "name": "ir"
  },
  "language_info": {
   "codemirror_mode": "r",
   "file_extension": ".r",
   "mimetype": "text/x-r-source",
   "name": "R",
   "pygments_lexer": "r",
   "version": "3.6.1"
  }
 },
 "nbformat": 4,
 "nbformat_minor": 2
}
