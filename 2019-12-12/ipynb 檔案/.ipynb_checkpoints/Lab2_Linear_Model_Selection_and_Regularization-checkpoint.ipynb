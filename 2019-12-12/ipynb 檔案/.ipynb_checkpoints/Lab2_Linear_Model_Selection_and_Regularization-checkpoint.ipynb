{
 "cells": [
  {
   "cell_type": "markdown",
   "metadata": {},
   "source": [
    "## Subset Selection Methods"
   ]
  },
  {
   "cell_type": "code",
   "execution_count": 1,
   "metadata": {},
   "outputs": [],
   "source": [
    "# install.packages(\"ISLR\")\n",
    "library(ISLR) #安裝需要的package"
   ]
  },
  {
   "cell_type": "code",
   "execution_count": 2,
   "metadata": {},
   "outputs": [],
   "source": [
    "data(Hitters) #取出資料"
   ]
  },
  {
   "cell_type": "code",
   "execution_count": 3,
   "metadata": {},
   "outputs": [
    {
     "data": {
      "text/html": [
       "<ol class=list-inline>\n",
       "\t<li>'AtBat'</li>\n",
       "\t<li>'Hits'</li>\n",
       "\t<li>'HmRun'</li>\n",
       "\t<li>'Runs'</li>\n",
       "\t<li>'RBI'</li>\n",
       "\t<li>'Walks'</li>\n",
       "\t<li>'Years'</li>\n",
       "\t<li>'CAtBat'</li>\n",
       "\t<li>'CHits'</li>\n",
       "\t<li>'CHmRun'</li>\n",
       "\t<li>'CRuns'</li>\n",
       "\t<li>'CRBI'</li>\n",
       "\t<li>'CWalks'</li>\n",
       "\t<li>'League'</li>\n",
       "\t<li>'Division'</li>\n",
       "\t<li>'PutOuts'</li>\n",
       "\t<li>'Assists'</li>\n",
       "\t<li>'Errors'</li>\n",
       "\t<li>'Salary'</li>\n",
       "\t<li>'NewLeague'</li>\n",
       "</ol>\n"
      ],
      "text/latex": [
       "\\begin{enumerate*}\n",
       "\\item 'AtBat'\n",
       "\\item 'Hits'\n",
       "\\item 'HmRun'\n",
       "\\item 'Runs'\n",
       "\\item 'RBI'\n",
       "\\item 'Walks'\n",
       "\\item 'Years'\n",
       "\\item 'CAtBat'\n",
       "\\item 'CHits'\n",
       "\\item 'CHmRun'\n",
       "\\item 'CRuns'\n",
       "\\item 'CRBI'\n",
       "\\item 'CWalks'\n",
       "\\item 'League'\n",
       "\\item 'Division'\n",
       "\\item 'PutOuts'\n",
       "\\item 'Assists'\n",
       "\\item 'Errors'\n",
       "\\item 'Salary'\n",
       "\\item 'NewLeague'\n",
       "\\end{enumerate*}\n"
      ],
      "text/markdown": [
       "1. 'AtBat'\n",
       "2. 'Hits'\n",
       "3. 'HmRun'\n",
       "4. 'Runs'\n",
       "5. 'RBI'\n",
       "6. 'Walks'\n",
       "7. 'Years'\n",
       "8. 'CAtBat'\n",
       "9. 'CHits'\n",
       "10. 'CHmRun'\n",
       "11. 'CRuns'\n",
       "12. 'CRBI'\n",
       "13. 'CWalks'\n",
       "14. 'League'\n",
       "15. 'Division'\n",
       "16. 'PutOuts'\n",
       "17. 'Assists'\n",
       "18. 'Errors'\n",
       "19. 'Salary'\n",
       "20. 'NewLeague'\n",
       "\n",
       "\n"
      ],
      "text/plain": [
       " [1] \"AtBat\"     \"Hits\"      \"HmRun\"     \"Runs\"      \"RBI\"       \"Walks\"    \n",
       " [7] \"Years\"     \"CAtBat\"    \"CHits\"     \"CHmRun\"    \"CRuns\"     \"CRBI\"     \n",
       "[13] \"CWalks\"    \"League\"    \"Division\"  \"PutOuts\"   \"Assists\"   \"Errors\"   \n",
       "[19] \"Salary\"    \"NewLeague\""
      ]
     },
     "metadata": {},
     "output_type": "display_data"
    }
   ],
   "source": [
    "names(Hitters) #看資料的欄位名稱"
   ]
  },
  {
   "cell_type": "code",
   "execution_count": 4,
   "metadata": {},
   "outputs": [
    {
     "data": {
      "text/html": [
       "<ol class=list-inline>\n",
       "\t<li>322</li>\n",
       "\t<li>20</li>\n",
       "</ol>\n"
      ],
      "text/latex": [
       "\\begin{enumerate*}\n",
       "\\item 322\n",
       "\\item 20\n",
       "\\end{enumerate*}\n"
      ],
      "text/markdown": [
       "1. 322\n",
       "2. 20\n",
       "\n",
       "\n"
      ],
      "text/plain": [
       "[1] 322  20"
      ]
     },
     "metadata": {},
     "output_type": "display_data"
    }
   ],
   "source": [
    "dim(Hitters) #看資料的行、列數 "
   ]
  },
  {
   "cell_type": "code",
   "execution_count": 5,
   "metadata": {},
   "outputs": [],
   "source": [
    "Hitters = na.omit(Hitters) #將資料中有缺失值的列刪除"
   ]
  },
  {
   "cell_type": "code",
   "execution_count": 6,
   "metadata": {},
   "outputs": [
    {
     "data": {
      "text/html": [
       "<ol class=list-inline>\n",
       "\t<li>263</li>\n",
       "\t<li>20</li>\n",
       "</ol>\n"
      ],
      "text/latex": [
       "\\begin{enumerate*}\n",
       "\\item 263\n",
       "\\item 20\n",
       "\\end{enumerate*}\n"
      ],
      "text/markdown": [
       "1. 263\n",
       "2. 20\n",
       "\n",
       "\n"
      ],
      "text/plain": [
       "[1] 263  20"
      ]
     },
     "metadata": {},
     "output_type": "display_data"
    }
   ],
   "source": [
    "dim(Hitters) #刪除缺失值後重新查看資料的行、列數"
   ]
  },
  {
   "cell_type": "code",
   "execution_count": 7,
   "metadata": {},
   "outputs": [
    {
     "data": {
      "text/html": [
       "0"
      ],
      "text/latex": [
       "0"
      ],
      "text/markdown": [
       "0"
      ],
      "text/plain": [
       "[1] 0"
      ]
     },
     "metadata": {},
     "output_type": "display_data"
    }
   ],
   "source": [
    "sum(is.na(Hitters )) #檢查是否還有缺失值尚未刪除"
   ]
  },
  {
   "cell_type": "markdown",
   "metadata": {},
   "source": [
    "### Best Subset Selection\n",
    "\n",
    "$\\bullet$ 以Salary作為反應變數，執行regsubsets()配適模型\n",
    "\n",
    "$\\bullet$ nvmax表示我們所希望得到最佳模型的變數個數\n",
    "\n",
    "$\\bullet$ 此函數將會配適每一種變數個數的最佳模型"
   ]
  },
  {
   "cell_type": "code",
   "execution_count": 8,
   "metadata": {},
   "outputs": [],
   "source": [
    "# install.packages(\"leaps\")\n",
    "library(leaps) #安裝需要的package "
   ]
  },
  {
   "cell_type": "code",
   "execution_count": 9,
   "metadata": {},
   "outputs": [],
   "source": [
    "regfit.full=regsubsets(Salary~.,data=Hitters ,nvmax =19)"
   ]
  },
  {
   "cell_type": "markdown",
   "metadata": {},
   "source": [
    "將模型的結果存起來，模型結果裡會包含不同準則的值"
   ]
  },
  {
   "cell_type": "code",
   "execution_count": 10,
   "metadata": {},
   "outputs": [],
   "source": [
    "reg.summary=summary(regfit.full)"
   ]
  },
  {
   "cell_type": "markdown",
   "metadata": {},
   "source": [
    "試著取出每一種變數個數的最佳模型的Adjusted Rsquare，取出的結果依照順序為變數數量為1~變數數量為19的最佳模型的Adjusted Rsquare"
   ]
  },
  {
   "cell_type": "code",
   "execution_count": 11,
   "metadata": {},
   "outputs": [
    {
     "data": {
      "text/html": [
       "<ol class=list-inline>\n",
       "\t<li>0.318850280578499</li>\n",
       "\t<li>0.420802390670369</li>\n",
       "\t<li>0.445075316286119</li>\n",
       "\t<li>0.467273423214861</li>\n",
       "\t<li>0.480897071527011</li>\n",
       "\t<li>0.497200054797098</li>\n",
       "\t<li>0.500784873641778</li>\n",
       "\t<li>0.513708257477458</li>\n",
       "\t<li>0.51805715937398</li>\n",
       "\t<li>0.522260623597179</li>\n",
       "\t<li>0.522570578730917</li>\n",
       "\t<li>0.521724458646507</li>\n",
       "\t<li>0.5206736454971</li>\n",
       "\t<li>0.519543086092702</li>\n",
       "\t<li>0.517866147524149</li>\n",
       "\t<li>0.516221853907086</li>\n",
       "\t<li>0.514446423331</li>\n",
       "\t<li>0.512609692022866</li>\n",
       "\t<li>0.510626978687586</li>\n",
       "</ol>\n"
      ],
      "text/latex": [
       "\\begin{enumerate*}\n",
       "\\item 0.318850280578499\n",
       "\\item 0.420802390670369\n",
       "\\item 0.445075316286119\n",
       "\\item 0.467273423214861\n",
       "\\item 0.480897071527011\n",
       "\\item 0.497200054797098\n",
       "\\item 0.500784873641778\n",
       "\\item 0.513708257477458\n",
       "\\item 0.51805715937398\n",
       "\\item 0.522260623597179\n",
       "\\item 0.522570578730917\n",
       "\\item 0.521724458646507\n",
       "\\item 0.5206736454971\n",
       "\\item 0.519543086092702\n",
       "\\item 0.517866147524149\n",
       "\\item 0.516221853907086\n",
       "\\item 0.514446423331\n",
       "\\item 0.512609692022866\n",
       "\\item 0.510626978687586\n",
       "\\end{enumerate*}\n"
      ],
      "text/markdown": [
       "1. 0.318850280578499\n",
       "2. 0.420802390670369\n",
       "3. 0.445075316286119\n",
       "4. 0.467273423214861\n",
       "5. 0.480897071527011\n",
       "6. 0.497200054797098\n",
       "7. 0.500784873641778\n",
       "8. 0.513708257477458\n",
       "9. 0.51805715937398\n",
       "10. 0.522260623597179\n",
       "11. 0.522570578730917\n",
       "12. 0.521724458646507\n",
       "13. 0.5206736454971\n",
       "14. 0.519543086092702\n",
       "15. 0.517866147524149\n",
       "16. 0.516221853907086\n",
       "17. 0.514446423331\n",
       "18. 0.512609692022866\n",
       "19. 0.510626978687586\n",
       "\n",
       "\n"
      ],
      "text/plain": [
       " [1] 0.3188503 0.4208024 0.4450753 0.4672734 0.4808971 0.4972001 0.5007849\n",
       " [8] 0.5137083 0.5180572 0.5222606 0.5225706 0.5217245 0.5206736 0.5195431\n",
       "[15] 0.5178661 0.5162219 0.5144464 0.5126097 0.5106270"
      ]
     },
     "metadata": {},
     "output_type": "display_data"
    }
   ],
   "source": [
    "reg.summary$adjr2"
   ]
  },
  {
   "cell_type": "markdown",
   "metadata": {},
   "source": [
    "視覺化不同準則在每一種變數個數的模型的值，紅點所對應的Y軸表示在這個準則中最好的值，對應的X軸則為該準則認為最佳的變數個數"
   ]
  },
  {
   "cell_type": "code",
   "execution_count": 12,
   "metadata": {},
   "outputs": [
    {
     "data": {
      "image/png": "[encoded data removed]",
      "text/plain": [
       "plot without title"
      ]
     },
     "metadata": {},
     "output_type": "display_data"
    }
   ],
   "source": [
    "par(mfrow =c(2,2))\n",
    "\n",
    "plot(reg.summary$rss ,xlab=\" Number of Variables \",ylab=\" RSS\",type=\"l\")\n",
    "points(which.min(reg.summary$rss), reg.summary$rss[which.min(reg.summary$rss)], col =\"red\",cex =2, pch =20)\n",
    "\n",
    "plot(reg.summary$adjr2 ,xlab =\" Number of Variables \", ylab=\" Adjusted RSq\",type=\"l\")\n",
    "points(which.max(reg.summary$adjr2), reg.summary$adjr2[which.max(reg.summary$adjr2)], col =\"red\",cex =2, pch =20)\n",
    "\n",
    "plot(reg.summary$cp ,xlab =\"Number of Variables\",ylab=\"Cp\",type='l')\n",
    "points(which.min(reg.summary$cp), reg.summary$cp[which.min(reg.summary$cp)], col =\"red\",cex =2, pch =20)\n",
    "\n",
    "plot(reg.summary$bic ,xlab=\"Number of Variables\",ylab=\" BIC\",type='l')\n",
    "points(which.min(reg.summary$bic), reg.summary$bic[which.min(reg.summary$bic)], col =\" red\",cex =2, pch =20)"
   ]
  },
  {
   "cell_type": "markdown",
   "metadata": {},
   "source": [
    "### Forward Selection & Backward Selection\n",
    "\n",
    "$\\bullet$ 和Best subset selection所使用的函數相同"
   ]
  },
  {
   "cell_type": "markdown",
   "metadata": {},
   "source": [
    "$\\bullet$ 若想用Forward Selection，將參數method指定為\"forward\"\n",
    "\n",
    "$\\bullet$ 同樣可用nvmax決定想要的最佳模型的變數數量"
   ]
  },
  {
   "cell_type": "code",
   "execution_count": 13,
   "metadata": {},
   "outputs": [],
   "source": [
    "regfit.fwd=regsubsets(Salary~.,data=Hitters, nvmax =19, method =\"forward\")"
   ]
  },
  {
   "cell_type": "markdown",
   "metadata": {},
   "source": [
    "$\\bullet$ 若想用Backward Selection，將參數method指定為\"backward\"\n",
    "\n",
    "$\\bullet$ 同樣可用nvmax決定想要的最佳模型的變數數量"
   ]
  },
  {
   "cell_type": "code",
   "execution_count": 14,
   "metadata": {},
   "outputs": [],
   "source": [
    "regfit.bwd=regsubsets(Salary~.,data=Hitters ,nvmax =19,method =\"backward\")"
   ]
  },
  {
   "cell_type": "markdown",
   "metadata": {},
   "source": [
    "### The Lasso"
   ]
  },
  {
   "cell_type": "markdown",
   "metadata": {},
   "source": [
    "$\\bullet$ 利用model.matrix()建立x資料集，當我們需要建立具有交互作用或者次方項的變數時，即可使用\n",
    "model.matrix()\n",
    "\n",
    "$\\bullet$ 由於Hitters資料中有類別型的變數，而我們接下來要用的glmnet()函數無法處理變數中具有類別型變數的情況，此時利用model.matrix()就可將類別型變數轉換為dummy variable"
   ]
  },
  {
   "cell_type": "code",
   "execution_count": 15,
   "metadata": {},
   "outputs": [],
   "source": [
    "x=model.matrix(Salary~.,Hitters)[,-1]\n",
    "y=Hitters$Salary"
   ]
  },
  {
   "cell_type": "code",
   "execution_count": 16,
   "metadata": {},
   "outputs": [
    {
     "name": "stderr",
     "output_type": "stream",
     "text": [
      "Loading required package: Matrix\n",
      "Loading required package: foreach\n",
      "Loaded glmnet 2.0-18\n",
      "\n"
     ]
    }
   ],
   "source": [
    "# install.packages(\"glmnet\")\n",
    "library(glmnet) #安裝需要的package"
   ]
  },
  {
   "cell_type": "markdown",
   "metadata": {},
   "source": [
    "將資料分為訓練集和測試集"
   ]
  },
  {
   "cell_type": "code",
   "execution_count": 17,
   "metadata": {},
   "outputs": [],
   "source": [
    "set.seed (1)\n",
    "train=sample(1:nrow(x), nrow(x)/2)\n",
    "test=(-train)\n",
    "y.test=y[test]"
   ]
  },
  {
   "cell_type": "markdown",
   "metadata": {},
   "source": [
    "以glmnet()實現The Lasso方法，要放的參數有：\n",
    "\n",
    "$\\bullet$ x:不含反應變數的資料集\n",
    "\n",
    "$\\bullet$ y:反應變數\n",
    "\n",
    "$\\bullet$ alpha:設為alpha=1\n",
    "\n",
    "$\\bullet$ lambda: tuning parameter，可以一次放一個數列的lambda，若沒有指定lambda，函數也有預設一定範圍的lambda"
   ]
  },
  {
   "cell_type": "markdown",
   "metadata": {},
   "source": [
    "在這裡我們指定$\\lambda$的範圍介在$10^{-2}\\sim10^2$之間"
   ]
  },
  {
   "cell_type": "code",
   "execution_count": 18,
   "metadata": {},
   "outputs": [],
   "source": [
    "grid =10^seq(10,-2,length =100) "
   ]
  },
  {
   "cell_type": "markdown",
   "metadata": {},
   "source": [
    "配適The Lasso模型"
   ]
  },
  {
   "cell_type": "code",
   "execution_count": 19,
   "metadata": {},
   "outputs": [],
   "source": [
    "lasso.mod =glmnet(x[train ,],y[train],alpha =1, lambda =grid)"
   ]
  },
  {
   "cell_type": "markdown",
   "metadata": {},
   "source": [
    "利用cross validation選擇最佳的tuning parameter $\\lambda$\n",
    "\n",
    "$\\bullet$ cv.glmnet():配適進行cross validation的The Lasso模型"
   ]
  },
  {
   "cell_type": "code",
   "execution_count": 20,
   "metadata": {},
   "outputs": [
    {
     "data": {
      "image/png": "[encoded data removed]",
      "text/plain": [
       "plot without title"
      ]
     },
     "metadata": {},
     "output_type": "display_data"
    }
   ],
   "source": [
    "set.seed(1)\n",
    "cv.out = cv.glmnet(x[train ,],y[train],alpha =1) \n",
    "plot(cv.out) #畫出在不同的lambda之下模型的MSE"
   ]
  },
  {
   "cell_type": "code",
   "execution_count": 21,
   "metadata": {},
   "outputs": [
    {
     "data": {
      "text/html": [
       "143673.618543046"
      ],
      "text/latex": [
       "143673.618543046"
      ],
      "text/markdown": [
       "143673.618543046"
      ],
      "text/plain": [
       "[1] 143673.6"
      ]
     },
     "metadata": {},
     "output_type": "display_data"
    }
   ],
   "source": [
    "bestlam = cv.out$lambda.min #使模型的MSE最小的lambda，也就是我們想要的lambda\n",
    "lasso.pred= predict(lasso.mod,s=bestlam ,newx=x[test ,]) #將The Lasso模型的lambda設定為我們選出的lambda，丟入測試集資料進行預測\n",
    "mean((lasso.pred-y.test)^2) #test MSE"
   ]
  },
  {
   "cell_type": "code",
   "execution_count": 22,
   "metadata": {},
   "outputs": [],
   "source": [
    "lasso.coef=predict(cv.out ,type =\"coefficients\",s=bestlam)[1:20 ,] #代入最佳lambda的The Lasso模型的係數"
   ]
  },
  {
   "cell_type": "code",
   "execution_count": 23,
   "metadata": {},
   "outputs": [
    {
     "data": {
      "text/html": [
       "<dl class=dl-horizontal>\n",
       "\t<dt>(Intercept)</dt>\n",
       "\t\t<dd>119.841767678403</dd>\n",
       "\t<dt>AtBat</dt>\n",
       "\t\t<dd>0</dd>\n",
       "\t<dt>Hits</dt>\n",
       "\t\t<dd>0</dd>\n",
       "\t<dt>HmRun</dt>\n",
       "\t\t<dd>3.42394217981313</dd>\n",
       "\t<dt>Runs</dt>\n",
       "\t\t<dd>0</dd>\n",
       "\t<dt>RBI</dt>\n",
       "\t\t<dd>0</dd>\n",
       "\t<dt>Walks</dt>\n",
       "\t\t<dd>4.04875545157754</dd>\n",
       "\t<dt>Years</dt>\n",
       "\t\t<dd>-11.8252121342599</dd>\n",
       "\t<dt>CAtBat</dt>\n",
       "\t\t<dd>0</dd>\n",
       "\t<dt>CHits</dt>\n",
       "\t\t<dd>0.20527507829825</dd>\n",
       "\t<dt>CHmRun</dt>\n",
       "\t\t<dd>0.910662690731385</dd>\n",
       "\t<dt>CRuns</dt>\n",
       "\t\t<dd>0</dd>\n",
       "\t<dt>CRBI</dt>\n",
       "\t\t<dd>0.384606427850287</dd>\n",
       "\t<dt>CWalks</dt>\n",
       "\t\t<dd>0</dd>\n",
       "\t<dt>LeagueN</dt>\n",
       "\t\t<dd>46.8403552129108</dd>\n",
       "\t<dt>DivisionW</dt>\n",
       "\t\t<dd>-135.30020870415</dd>\n",
       "\t<dt>PutOuts</dt>\n",
       "\t\t<dd>0.116402689226433</dd>\n",
       "\t<dt>Assists</dt>\n",
       "\t\t<dd>0.140122424885599</dd>\n",
       "\t<dt>Errors</dt>\n",
       "\t\t<dd>0</dd>\n",
       "\t<dt>NewLeagueN</dt>\n",
       "\t\t<dd>0</dd>\n",
       "</dl>\n"
      ],
      "text/latex": [
       "\\begin{description*}\n",
       "\\item[(Intercept)] 119.841767678403\n",
       "\\item[AtBat] 0\n",
       "\\item[Hits] 0\n",
       "\\item[HmRun] 3.42394217981313\n",
       "\\item[Runs] 0\n",
       "\\item[RBI] 0\n",
       "\\item[Walks] 4.04875545157754\n",
       "\\item[Years] -11.8252121342599\n",
       "\\item[CAtBat] 0\n",
       "\\item[CHits] 0.20527507829825\n",
       "\\item[CHmRun] 0.910662690731385\n",
       "\\item[CRuns] 0\n",
       "\\item[CRBI] 0.384606427850287\n",
       "\\item[CWalks] 0\n",
       "\\item[LeagueN] 46.8403552129108\n",
       "\\item[DivisionW] -135.30020870415\n",
       "\\item[PutOuts] 0.116402689226433\n",
       "\\item[Assists] 0.140122424885599\n",
       "\\item[Errors] 0\n",
       "\\item[NewLeagueN] 0\n",
       "\\end{description*}\n"
      ],
      "text/markdown": [
       "(Intercept)\n",
       ":   119.841767678403AtBat\n",
       ":   0Hits\n",
       ":   0HmRun\n",
       ":   3.42394217981313Runs\n",
       ":   0RBI\n",
       ":   0Walks\n",
       ":   4.04875545157754Years\n",
       ":   -11.8252121342599CAtBat\n",
       ":   0CHits\n",
       ":   0.20527507829825CHmRun\n",
       ":   0.910662690731385CRuns\n",
       ":   0CRBI\n",
       ":   0.384606427850287CWalks\n",
       ":   0LeagueN\n",
       ":   46.8403552129108DivisionW\n",
       ":   -135.30020870415PutOuts\n",
       ":   0.116402689226433Assists\n",
       ":   0.140122424885599Errors\n",
       ":   0NewLeagueN\n",
       ":   0\n",
       "\n"
      ],
      "text/plain": [
       " (Intercept)        AtBat         Hits        HmRun         Runs          RBI \n",
       " 119.8417677    0.0000000    0.0000000    3.4239422    0.0000000    0.0000000 \n",
       "       Walks        Years       CAtBat        CHits       CHmRun        CRuns \n",
       "   4.0487555  -11.8252121    0.0000000    0.2052751    0.9106627    0.0000000 \n",
       "        CRBI       CWalks      LeagueN    DivisionW      PutOuts      Assists \n",
       "   0.3846064    0.0000000   46.8403552 -135.3002087    0.1164027    0.1401224 \n",
       "      Errors   NewLeagueN \n",
       "   0.0000000    0.0000000 "
      ]
     },
     "metadata": {},
     "output_type": "display_data"
    }
   ],
   "source": [
    "lasso.coef"
   ]
  },
  {
   "cell_type": "markdown",
   "metadata": {},
   "source": [
    "用全部的x資料集重新建立The Lasso模型，並代入藉由cross validation所選出的lambda得到模型的係數"
   ]
  },
  {
   "cell_type": "code",
   "execution_count": 24,
   "metadata": {},
   "outputs": [
    {
     "data": {
      "text/html": [
       "<dl class=dl-horizontal>\n",
       "\t<dt>(Intercept)</dt>\n",
       "\t\t<dd>1.27479059109959</dd>\n",
       "\t<dt>AtBat</dt>\n",
       "\t\t<dd>-0.054971427331518</dd>\n",
       "\t<dt>Hits</dt>\n",
       "\t\t<dd>2.18034583361294</dd>\n",
       "\t<dt>HmRun</dt>\n",
       "\t\t<dd>0</dd>\n",
       "\t<dt>Runs</dt>\n",
       "\t\t<dd>0</dd>\n",
       "\t<dt>RBI</dt>\n",
       "\t\t<dd>0</dd>\n",
       "\t<dt>Walks</dt>\n",
       "\t\t<dd>2.29192406458189</dd>\n",
       "\t<dt>Years</dt>\n",
       "\t\t<dd>-0.338061091664961</dd>\n",
       "\t<dt>CAtBat</dt>\n",
       "\t\t<dd>0</dd>\n",
       "\t<dt>CHits</dt>\n",
       "\t\t<dd>0</dd>\n",
       "\t<dt>CHmRun</dt>\n",
       "\t\t<dd>0.0282501287940462</dd>\n",
       "\t<dt>CRuns</dt>\n",
       "\t\t<dd>0.2162838490676</dd>\n",
       "\t<dt>CRBI</dt>\n",
       "\t\t<dd>0.417125367645419</dd>\n",
       "\t<dt>CWalks</dt>\n",
       "\t\t<dd>0</dd>\n",
       "\t<dt>LeagueN</dt>\n",
       "\t\t<dd>20.286150231074</dd>\n",
       "\t<dt>DivisionW</dt>\n",
       "\t\t<dd>-116.167558696372</dd>\n",
       "\t<dt>PutOuts</dt>\n",
       "\t\t<dd>0.237523845868754</dd>\n",
       "\t<dt>Assists</dt>\n",
       "\t\t<dd>0</dd>\n",
       "\t<dt>Errors</dt>\n",
       "\t\t<dd>-0.856291484604417</dd>\n",
       "\t<dt>NewLeagueN</dt>\n",
       "\t\t<dd>0</dd>\n",
       "</dl>\n"
      ],
      "text/latex": [
       "\\begin{description*}\n",
       "\\item[(Intercept)] 1.27479059109959\n",
       "\\item[AtBat] -0.054971427331518\n",
       "\\item[Hits] 2.18034583361294\n",
       "\\item[HmRun] 0\n",
       "\\item[Runs] 0\n",
       "\\item[RBI] 0\n",
       "\\item[Walks] 2.29192406458189\n",
       "\\item[Years] -0.338061091664961\n",
       "\\item[CAtBat] 0\n",
       "\\item[CHits] 0\n",
       "\\item[CHmRun] 0.0282501287940462\n",
       "\\item[CRuns] 0.2162838490676\n",
       "\\item[CRBI] 0.417125367645419\n",
       "\\item[CWalks] 0\n",
       "\\item[LeagueN] 20.286150231074\n",
       "\\item[DivisionW] -116.167558696372\n",
       "\\item[PutOuts] 0.237523845868754\n",
       "\\item[Assists] 0\n",
       "\\item[Errors] -0.856291484604417\n",
       "\\item[NewLeagueN] 0\n",
       "\\end{description*}\n"
      ],
      "text/markdown": [
       "(Intercept)\n",
       ":   1.27479059109959AtBat\n",
       ":   -0.054971427331518Hits\n",
       ":   2.18034583361294HmRun\n",
       ":   0Runs\n",
       ":   0RBI\n",
       ":   0Walks\n",
       ":   2.29192406458189Years\n",
       ":   -0.338061091664961CAtBat\n",
       ":   0CHits\n",
       ":   0CHmRun\n",
       ":   0.0282501287940462CRuns\n",
       ":   0.2162838490676CRBI\n",
       ":   0.417125367645419CWalks\n",
       ":   0LeagueN\n",
       ":   20.286150231074DivisionW\n",
       ":   -116.167558696372PutOuts\n",
       ":   0.237523845868754Assists\n",
       ":   0Errors\n",
       ":   -0.856291484604417NewLeagueN\n",
       ":   0\n",
       "\n"
      ],
      "text/plain": [
       "  (Intercept)         AtBat          Hits         HmRun          Runs \n",
       "   1.27479059   -0.05497143    2.18034583    0.00000000    0.00000000 \n",
       "          RBI         Walks         Years        CAtBat         CHits \n",
       "   0.00000000    2.29192406   -0.33806109    0.00000000    0.00000000 \n",
       "       CHmRun         CRuns          CRBI        CWalks       LeagueN \n",
       "   0.02825013    0.21628385    0.41712537    0.00000000   20.28615023 \n",
       "    DivisionW       PutOuts       Assists        Errors    NewLeagueN \n",
       "-116.16755870    0.23752385    0.00000000   -0.85629148    0.00000000 "
      ]
     },
     "metadata": {},
     "output_type": "display_data"
    }
   ],
   "source": [
    "out=glmnet(x,y,alpha =1, lambda =grid)\n",
    "lasso.coef=predict(out ,type =\"coefficients\",s=bestlam)[1:20 ,]\n",
    "lasso.coef"
   ]
  }
 ],
 "metadata": {
  "kernelspec": {
   "display_name": "R",
   "language": "R",
   "name": "ir"
  },
  "language_info": {
   "codemirror_mode": "r",
   "file_extension": ".r",
   "mimetype": "text/x-r-source",
   "name": "R",
   "pygments_lexer": "r",
   "version": "3.6.1"
  }
 },
 "nbformat": 4,
 "nbformat_minor": 2
}
