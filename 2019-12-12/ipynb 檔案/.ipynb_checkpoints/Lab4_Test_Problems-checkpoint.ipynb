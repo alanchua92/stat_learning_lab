{
 "cells": [
  {
   "cell_type": "markdown",
   "metadata": {},
   "source": [
    "# <font color='darkorange'>  Test Problems</font>"
   ]
  },
  {
   "cell_type": "markdown",
   "metadata": {},
   "source": [
    "### <font color='darkorange'> Test 1:</font> \n",
    "### Spam data set"
   ]
  },
  {
   "cell_type": "markdown",
   "metadata": {},
   "source": [
    "### <font color='blue'> (a.)</font> library(kernlab) 後使用指令 data(spam) 取出 spam 資料 \n",
    "### (資料集 spam 紀錄郵件中單字出現的頻率和判斷「郵件」是否為垃圾郵件)"
   ]
  },
  {
   "cell_type": "markdown",
   "metadata": {},
   "source": [
    "### <font color='blue'> (b.)</font> 使用 Lasso 方法加上 Cross Validation 配適 logistics 模型 \n",
    "### (Hint: 使用 glmnet 指令加上參數 family=\"binomial\")"
   ]
  },
  {
   "cell_type": "markdown",
   "metadata": {},
   "source": [
    "### <font color='blue'> (c.)</font> 列出 Lasso 方法挑選的變數"
   ]
  },
  {
   "cell_type": "markdown",
   "metadata": {},
   "source": [
    "### <font color='darkorange'> Test 2:</font>"
   ]
  },
  {
   "cell_type": "markdown",
   "metadata": {},
   "source": [
    "### <font color='blue'> (a.)</font> Perform the following commands in R:"
   ]
  },
  {
   "cell_type": "markdown",
   "metadata": {},
   "source": [
    "#### <font color='green'>  library(randomForest)</font>\n",
    "#### <font color='green'>  library(ISLR)</font>\n",
    "#### <font color='green'>  data(Carseats)</font>\n",
    "#### <font color='green'>  High = ifelse(Carseats\\$Sales <= median(Carseats\\$Sales), \"No\" ,\"Yes\")</font>\n",
    "#### <font color='green'>  Carseats = data.frame(Carseats ,High)</font>\n",
    "#### <font color='green'>  Carseats = Carseats[,-1]</font>"
   ]
  },
  {
   "cell_type": "markdown",
   "metadata": {},
   "source": [
    "### <font color='blue'> (b.)</font> Spilt the <font color='red'> Carseats</font> dataset into  a $70\\%$ training set and a $30\\%$ test set."
   ]
  },
  {
   "cell_type": "markdown",
   "metadata": {},
   "source": [
    "### <font color='blue'> (c.)</font> Use the training set to fit a randomForest model with response variable  <font color='red'> High </font>."
   ]
  },
  {
   "cell_type": "markdown",
   "metadata": {},
   "source": [
    "### <font color='blue'> (d.)</font> Evaluate the <font color='red'> accuracy </font>  and <font color='red'> confusion matrix </font> on test set."
   ]
  }
 ],
 "metadata": {
  "kernelspec": {
   "display_name": "Python 3",
   "language": "python",
   "name": "python3"
  },
  "language_info": {
   "codemirror_mode": {
    "name": "ipython",
    "version": 3
   },
   "file_extension": ".py",
   "mimetype": "text/x-python",
   "name": "python",
   "nbconvert_exporter": "python",
   "pygments_lexer": "ipython3",
   "version": "3.7.5"
  }
 },
 "nbformat": 4,
 "nbformat_minor": 2
}
